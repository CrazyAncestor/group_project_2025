{
 "cells": [
  {
   "cell_type": "code",
   "execution_count": null,
   "id": "3d91a4cf",
   "metadata": {},
   "outputs": [],
   "source": [
    "\"\"\"\n",
    "Import package of dealing with Fermi data\n",
    "\"\"\"\n",
    "from gw_grb_correlation.Fermi.data_preprocessing import create_dataframe_and_name_column_from_data_files, download_and_preprocess_fermi_data\n",
    "from gw_grb_correlation.Fermi.download_data_functions import download_file\n"
   ]
  },
  {
   "cell_type": "code",
   "execution_count": null,
   "id": "cebb8307",
   "metadata": {},
   "outputs": [],
   "source": [
    "\"\"\"\n",
    "Download and preprocess Fermi data\n",
    "\"\"\"\n",
    "start_year = 2015\n",
    "end_year = 2026\n",
    "fermi_data = download_and_preprocess_fermi_data(start_year=start_year, end_year=end_year, download_or_not=True)"
   ]
  },
  {
   "cell_type": "code",
   "execution_count": null,
   "id": "069db738",
   "metadata": {},
   "outputs": [],
   "source": [
    "\"\"\"\n",
    "Optional: If you don't want to download the raw data from Fermi database (which will take 12 hours), you can download the preporcessed data from the following link\n",
    "Note that this data only conatins the Fermi data from 2015 to 2025 April. \n",
    "\"\"\"\n",
    "import os\n",
    "\n",
    "os.makedirs(\"fermi_data\", exist_ok=True)\n",
    "os.makedirs(\"fermi_data/fermi\", exist_ok=True)\n",
    "\n",
    "\"\"\"\n",
    "Google Drive download URLs\n",
    "\"\"\"\n",
    "downloads = {\n",
    "    \"https://drive.google.com/uc?id=18fEbzKDVn8_-Y8d8MnQLKrAgSFT4Vmlu\": \"./fermi_data/fermi/fermi_data.npy\",\n",
    "}\n",
    "\n",
    "\"\"\"\n",
    "Download files\n",
    "\"\"\"\n",
    "for url, output_path in downloads.items():\n",
    "    download_file(url, output_path)\n",
    "\n",
    "fermi_data = create_dataframe_and_name_column_from_data_files(data_type=\"fermi\")"
   ]
  },
  {
   "cell_type": "code",
   "execution_count": null,
   "id": "2bda1406",
   "metadata": {},
   "outputs": [],
   "source": [
    "\"\"\"\n",
    "Extract time data, and plot histograms of time and T90 duration of GRBs\n",
    "\"\"\"\n",
    "from gw_grb_correlation.Fermi.visualization import create_time_data_plots\n",
    "\n",
    "create_time_data_plots(fermi_data, 'plots')"
   ]
  },
  {
   "cell_type": "code",
   "execution_count": null,
   "id": "ea16c7e6",
   "metadata": {},
   "outputs": [],
   "source": [
    "\"\"\"\n",
    "Extract location data, and plot histograms of location data of GRBs\n",
    "\"\"\"\n",
    "from gw_grb_correlation.Fermi.visualization import create_location_data_plots\n",
    "create_location_data_plots(fermi_data, 'plots')"
   ]
  },
  {
   "cell_type": "code",
   "execution_count": null,
   "id": "89dedf4e",
   "metadata": {},
   "outputs": [],
   "source": [
    "\"\"\"\n",
    "Plot the poseterior of GRB location of a specific GRB event\n",
    "\"\"\"\n",
    "from gw_grb_correlation.Fermi.visualization import plot_certain_event_prob_dist\n",
    "\n",
    "url_locprob = \"https://heasarc.gsfc.nasa.gov/FTP/fermi/data/gbm/bursts/2017/bn170817529/current/glg_locprob_all_bn170817529_v02.fit\"\n",
    "filename_locprob = \"glg_locprob_all_bn170817529_v02.fit\"\n",
    "\n",
    "download_file(url_locprob, filename_locprob)\n",
    "plot_certain_event_prob_dist(filename_locprob, 'plots')"
   ]
  },
  {
   "cell_type": "code",
   "execution_count": null,
   "id": "19cd8ac8",
   "metadata": {},
   "outputs": [],
   "source": [
    "\"\"\"\n",
    "Plot the pointing of all detectors on Fermi GBM on the skymap during one GRB event\n",
    "\"\"\"\n",
    "from gw_grb_correlation.Fermi.visualization import plot_all_detector_positions\n",
    "plot_all_detector_positions(fermi_data.head(1), plt_show_or_not=True)"
   ]
  },
  {
   "cell_type": "code",
   "execution_count": null,
   "id": "004a8c82",
   "metadata": {},
   "outputs": [],
   "source": [
    "from gw_grb_correlation.Fermi.visualization import plot_light_curve_with_baseline_subtraction\n",
    "\"\"\"\n",
    "Download the tte data for the specific event\n",
    "\"\"\"\n",
    "url_tte = \"https://heasarc.gsfc.nasa.gov/FTP/fermi/data/gbm/bursts/2017/bn170817529/current/glg_tte_n2_bn170817529_v00.fit\"\n",
    "filename_tte = \"glg_tte_n2_bn170817529_v00.fit\"\n",
    "\n",
    "download_file(url_tte, filename_tte)\n",
    "\n",
    "\"\"\"\n",
    "Download the bcat data for the specific event\n",
    "\"\"\"\n",
    "url_bcat = \"https://heasarc.gsfc.nasa.gov/FTP/fermi/data/gbm/bursts/2017/bn170817529/current/glg_bcat_all_bn170817529_v01.fit\"\n",
    "filename_bcat = \"glg_bcat_all_bn170817529_v01.fit\"\n",
    "\n",
    "download_file(url_bcat, filename_bcat)\n",
    "\n",
    "\"\"\"\n",
    "Plot the light curve with baseline subtraction\n",
    "\"\"\"\n",
    "plot_light_curve_with_baseline_subtraction(filename_tte, filename_bcat, output_folder='./plots')"
   ]
  }
 ],
 "metadata": {
  "kernelspec": {
   "display_name": "Python 3",
   "language": "python",
   "name": "python3"
  },
  "language_info": {
   "codemirror_mode": {
    "name": "ipython",
    "version": 3
   },
   "file_extension": ".py",
   "mimetype": "text/x-python",
   "name": "python",
   "nbconvert_exporter": "python",
   "pygments_lexer": "ipython3",
   "version": "3.11.9"
  }
 },
 "nbformat": 4,
 "nbformat_minor": 5
}
