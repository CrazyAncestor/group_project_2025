{
 "cells": [
  {
   "cell_type": "code",
   "execution_count": null,
   "id": "f2210e33",
   "metadata": {},
   "outputs": [],
   "source": [
    "\"\"\"\n",
    "Import package of dealing with Fermi data\n",
    "\"\"\"\n",
    "from gw_grb_correlation.Fermi.util import duration, filtering, read_GW_data\n",
    "from gw_grb_correlation.Fermi.data_preprocessing import create_dataframe_and_name_column_from_data_files\n",
    "\n",
    "\n",
    "\"\"\"\n",
    "Load Fermi data\n",
    "Be sure that you already run the fermi_data_exploration.ipynb notebook to download and process the Fermi data\n",
    "\"\"\"\n",
    "fermi_data = create_dataframe_and_name_column_from_data_files(data_type=\"fermi\")\n",
    "\n",
    "\"\"\"\n",
    "Filter out short GRB data\n",
    "\"\"\"\n",
    "short_GRB_data = filtering(fermi_data, criteria={'T90': lambda x: x <= 2.1})\n",
    "\n",
    "\"\"\"\n",
    "Calculate the duration (difference between max TSTOP and min TSTART) and count the short GRB event number\n",
    "\"\"\"\n",
    "duration_short_GRB = duration(short_GRB_data)\n",
    "event_num_short_GRB = len(short_GRB_data)\n",
    "\n",
    "\"\"\"\n",
    "Calculate the average occurrence rate of short GRB (events per unit of time)\n",
    "\"\"\"\n",
    "average_occurrence_rate = event_num_short_GRB / duration_short_GRB\n",
    "\n",
    "\"\"\"\n",
    "Print the results\n",
    "\"\"\"\n",
    "print(f\"Number of short GRB: {event_num_short_GRB}\")\n",
    "print(f\"Total duration: {duration_short_GRB} seconds\")\n",
    "print(f\"Average occurrence rate: {average_occurrence_rate} short GRB per second\")"
   ]
  },
  {
   "cell_type": "code",
   "execution_count": null,
   "id": "3d91a4cf",
   "metadata": {},
   "outputs": [],
   "source": [
    "from gw_grb_correlation.Fermi.util import read_GW_data, remove_duplicate_times_in_gw_data, compare_time_within_range\n",
    "\"\"\"\n",
    "Load GW data\n",
    "To run the time correlation analysis between GRB and GW, be sure that you already run the GW data preprocessing notebook first to get the totalgwdata.csv file and places it in the ./gw_data/ directory.\n",
    "\"\"\"\n",
    "gw_data = read_GW_data(f\"./gw_data/totalgwdata.csv\")\n",
    "gw_times = remove_duplicate_times_in_gw_data(gw_data)\n",
    "\n",
    "\"\"\"\n",
    "Find matched GRB-GW event pairs\n",
    "\"\"\"\n",
    "match = compare_time_within_range(short_GRB_data, gw_times, time_range_seconds=86400*3)\n",
    "filtered_gw_events = gw_data[gw_data['times'].isin(match['gw_time'])]\n",
    "\n",
    "\"\"\"\n",
    "Save the matched GRB-GW event pairs and filtered GW events to CSV files\n",
    "\"\"\"\n",
    "match.to_csv(\"GRB_GW_event_pairs.csv\", index=False)\n",
    "filtered_gw_events.to_csv(\"Filtered_GW_events.csv\", index=False)"
   ]
  }
 ],
 "metadata": {
  "kernelspec": {
   "display_name": "Python 3",
   "language": "python",
   "name": "python3"
  },
  "language_info": {
   "codemirror_mode": {
    "name": "ipython",
    "version": 3
   },
   "file_extension": ".py",
   "mimetype": "text/x-python",
   "name": "python",
   "nbconvert_exporter": "python",
   "pygments_lexer": "ipython3",
   "version": "3.11.9"
  }
 },
 "nbformat": 4,
 "nbformat_minor": 5
}
