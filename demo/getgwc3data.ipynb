{
  "nbformat": 4,
  "nbformat_minor": 0,
  "metadata": {
    "colab": {
      "provenance": []
    },
    "kernelspec": {
      "name": "python3",
      "display_name": "Python 3"
    },
    "language_info": {
      "name": "python"
    }
  },
  "cells": [
    {
      "cell_type": "markdown",
      "source": [
        "Get zenodo_get to grab data from zenodo"
      ],
      "metadata": {
        "id": "4av0Zf1c9wJJ"
      }
    },
    {
      "cell_type": "code",
      "execution_count": null,
      "metadata": {
        "colab": {
          "base_uri": "https://localhost:8080/"
        },
        "id": "11BwlP1BUR74",
        "outputId": "f134b485-0f1c-4ed4-a58d-d75c8dac4b63"
      },
      "outputs": [
        {
          "output_type": "stream",
          "name": "stdout",
          "text": [
            "Requirement already satisfied: zenodo_get in /usr/local/lib/python3.11/dist-packages (1.6.1)\n",
            "Requirement already satisfied: requests in /usr/local/lib/python3.11/dist-packages (from zenodo_get) (2.32.3)\n",
            "Requirement already satisfied: wget in /usr/local/lib/python3.11/dist-packages (from zenodo_get) (3.2)\n",
            "Requirement already satisfied: humanize in /usr/local/lib/python3.11/dist-packages (from zenodo_get) (4.12.1)\n",
            "Requirement already satisfied: charset-normalizer<4,>=2 in /usr/local/lib/python3.11/dist-packages (from requests->zenodo_get) (3.4.1)\n",
            "Requirement already satisfied: idna<4,>=2.5 in /usr/local/lib/python3.11/dist-packages (from requests->zenodo_get) (3.10)\n",
            "Requirement already satisfied: urllib3<3,>=1.21.1 in /usr/local/lib/python3.11/dist-packages (from requests->zenodo_get) (2.3.0)\n",
            "Requirement already satisfied: certifi>=2017.4.17 in /usr/local/lib/python3.11/dist-packages (from requests->zenodo_get) (2025.1.31)\n"
          ]
        }
      ],
      "source": [
        "!pip install zenodo_get"
      ]
    },
    {
      "cell_type": "markdown",
      "source": [
        "Grab the data of the third observing run"
      ],
      "metadata": {
        "id": "Nq9B3IDQ9zf1"
      }
    },
    {
      "cell_type": "code",
      "source": [
        "!zenodo_get 8177023"
      ],
      "metadata": {
        "colab": {
          "base_uri": "https://localhost:8080/"
        },
        "id": "qzhYXySbUS-E",
        "outputId": "49a3add7-99e8-47e4-9b65-636cfb4b4fb0"
      },
      "execution_count": null,
      "outputs": [
        {
          "output_type": "stream",
          "name": "stdout",
          "text": [
            "Title: GWTC-3: Compact Binary Coalescences Observed by LIGO and Virgo During the Second Part of the Third Observing Run — Parameter estimation data release\n",
            "Keywords: \n",
            "Publication date: 2023-10-23\n",
            "DOI: 10.5281/zenodo.8177023\n",
            "Total size: 23.6 GB\n",
            "\n",
            "Link: https://zenodo.org/records/8177023/files/IGWN-GWTC3p0-v2-GW191204_171526_PEDataRelease_mixed_nocosmo.h5   size: 547.6 MB\n",
            "\n",
            "Checksum is correct. (51f6f0c318045469659629e71a4f5235)\n",
            "\n",
            "Link: https://zenodo.org/records/8177023/files/IGWN-GWTC3p0-v2-GW191216_213338_PEDataRelease_mixed_nocosmo.h5   size: 786.8 MB\n",
            "\n",
            "Checksum is correct. (db39e680c42562facbca6b7fb757155c)\n",
            "\n",
            "Link: https://zenodo.org/records/8177023/files/IGWN-GWTC3p0-v2-GW191129_134029_PEDataRelease_mixed_nocosmo.h5   size: 397.8 MB\n",
            "\n",
            "Checksum is correct. (836c02b6e84b5fbb83ba0d2740c670ec)\n",
            "\n",
            "Link: https://zenodo.org/records/8177023/files/IGWN-GWTC3p0-v2-GW191127_050227_PEDataRelease_mixed_nocosmo.h5   size: 581.9 MB\n",
            "\n",
            "Checksum is correct. (77b8ccd47650bc39266209e82b7863b8)\n",
            "\n",
            "Link: https://zenodo.org/records/8177023/files/IGWN-GWTC3p0-v2-GW200311_115853_PEDataRelease_mixed_cosmo.h5   size: 275.9 MB\n",
            "\n",
            "Checksum is correct. (9e49ad76f19325df581b031a40608c12)\n",
            "\n",
            "Link: https://zenodo.org/records/8177023/files/IGWN-GWTC3p0-v2-GW200308_173609_PEDataRelease_mixed_cosmo.h5   size: 25.9 MB\n",
            "\n",
            "Checksum is correct. (2528aa119921d362ccd2435693ec7fc0)\n",
            "\n",
            "Link: https://zenodo.org/records/8177023/files/IGWN-GWTC3p0-v2-GW200208_130117_PEDataRelease_mixed_cosmo.h5   size: 106.4 MB\n",
            "\n",
            "Checksum is correct. (6b6461ac0dbf75d8848dcb05aa49500a)\n",
            "\n",
            "Link: https://zenodo.org/records/8177023/files/IGWN-GWTC3p0-v2-GW200208_130117_PEDataRelease_mixed_nocosmo.h5   size: 530.6 MB\n",
            "\n",
            "Checksum is correct. (1942e2147d64ec24c99f3a16f242b477)\n",
            "\n",
            "Link: https://zenodo.org/records/8177023/files/IGWN-GWTC3p0-v2-GW191103_012549_PEDataRelease_mixed_nocosmo.h5   size: 433.4 MB\n",
            "\n",
            "Checksum is correct. (8b8769a426d1362870f7e46885052308)\n",
            "\n",
            "Link: https://zenodo.org/records/8177023/files/IGWN-GWTC3p0-v2-GW200129_065458_PEDataRelease_mixed_nocosmo.h5   size: 619.1 MB\n",
            "\n",
            "Checksum is correct. (ed3d99a671ea55b813468ec3aed10654)\n",
            "\n",
            "Link: https://zenodo.org/records/8177023/files/IGWN-GWTC3p0-v2-GW191126_115259_PEDataRelease_mixed_nocosmo.h5   size: 431.1 MB\n",
            "\n",
            "Checksum is correct. (d50eaf617cdbdd3599257878e10b76da)\n",
            "\n",
            "Link: https://zenodo.org/records/8177023/files/IGWN-GWTC3p0-v2-GW200112_155838_PEDataRelease_mixed_nocosmo.h5   size: 370.9 MB\n",
            "\n",
            "Checksum is correct. (4719089e8a9d20291611153f03382eef)\n",
            "\n",
            "Link: https://zenodo.org/records/8177023/files/IGWN-GWTC3p0-v2-GW200220_061928_PEDataRelease_mixed_nocosmo.h5   size: 389.2 MB\n",
            "\n",
            "Checksum is correct. (31ce0ccff0870c3051de37a6033a04d5)\n",
            "\n",
            "Link: https://zenodo.org/records/8177023/files/IGWN-GWTC3p0-v2-GW200210_092254_PEDataRelease_mixed_cosmo.h5   size: 216.1 MB\n",
            "\n",
            "Checksum is correct. (7abd258365b4975af711fa7ae625f406)\n",
            "\n",
            "Link: https://zenodo.org/records/8177023/files/IGWN-GWTC3p0-v2-GW191105_143521_PEDataRelease_mixed_nocosmo.h5   size: 481.8 MB\n",
            "\n",
            "Checksum is correct. (6a2249d59b3225c850c0bf1880094908)\n",
            "\n",
            "Link: https://zenodo.org/records/8177023/files/IGWN-GWTC3p0-v2-GW200129_065458_PEDataRelease_mixed_cosmo.h5   size: 214.0 MB\n",
            "\n",
            "Checksum is correct. (84a5213d4648c760ffee10de707a6365)\n",
            "\n",
            "Link: https://zenodo.org/records/8177023/files/IGWN-GWTC3p0-v2-GW200224_222234_PEDataRelease_mixed_cosmo.h5   size: 221.1 MB\n",
            "\n",
            "Checksum is correct. (18f3c1bdf167bbd5c798a0b0765ea90d)\n",
            "\n",
            "Link: https://zenodo.org/records/8177023/files/IGWN-GWTC3p0-v2-GW200302_015811_PEDataRelease_mixed_cosmo.h5   size: 91.9 MB\n",
            "\n",
            "Checksum is correct. (fa7e560c75d44783dd87b7a8f045cc31)\n",
            "\n",
            "Link: https://zenodo.org/records/8177023/files/IGWN-GWTC3p0-v2-GW191215_223052_PEDataRelease_mixed_nocosmo.h5   size: 130.8 MB\n",
            "\n",
            "Checksum is correct. (1c51e01557000ca091fd213a58bc4e2d)\n",
            "\n",
            "Link: https://zenodo.org/records/8177023/files/IGWN-GWTC3p0-v2-GW200208_222617_PEDataRelease_mixed_nocosmo.h5   size: 662.3 MB\n",
            "\n",
            "Checksum is correct. (1a701a615b2a7420a8083e2741991ce8)\n",
            "\n",
            "Link: https://zenodo.org/records/8177023/files/IGWN-GWTC3p0-v2-GW200209_085452_PEDataRelease_mixed_cosmo.h5   size: 84.1 MB\n",
            "\n",
            "Checksum is correct. (ff12f0e2fd14f0d56f1644a7ab908219)\n",
            "\n",
            "Link: https://zenodo.org/records/8177023/files/IGWN-GWTC3p0-v2-GW191126_115259_PEDataRelease_mixed_cosmo.h5   size: 134.0 MB\n",
            "\n",
            "Checksum is correct. (d7321d7e26024440c40267cc7ef31058)\n",
            "\n",
            "Link: https://zenodo.org/records/8177023/files/IGWN-GWTC3p0-v2-GW200210_092254_PEDataRelease_mixed_nocosmo.h5   size: 481.7 MB\n",
            "\n",
            "Checksum is correct. (d5086ac87ba019a074ce630e46036dbf)\n",
            "\n",
            "Link: https://zenodo.org/records/8177023/files/IGWN-GWTC3p0-v2-GW200311_115853_PEDataRelease_mixed_nocosmo.h5   size: 794.0 MB\n",
            "\n",
            "Checksum is correct. (07e82ac892c8fcc63983ea4597a959b2)\n",
            "\n",
            "Link: https://zenodo.org/records/8177023/files/IGWN-GWTC3p0-v2-PESkyLocalizations.tar.gz   size: 71.6 MB\n",
            "\n",
            "Checksum is correct. (3217c61c998146ec8ecb1b17c4866508)\n",
            "\n",
            "Link: https://zenodo.org/records/8177023/files/IGWN-GWTC3p0-v2-GW200115_042309_PEDataRelease_mixed_cosmo.h5   size: 434.6 MB\n",
            "\n",
            "Checksum is correct. (a079d1ab8467c9cffa6725276157b7b9)\n",
            "\n",
            "Link: https://zenodo.org/records/8177023/files/IGWN-GWTC3p0-v2-GW200306_093714_PEDataRelease_mixed_nocosmo.h5   size: 322.0 MB\n",
            "\n",
            "Checksum is correct. (00746e5278c231a4da9df985c66805a5)\n",
            "\n",
            "Link: https://zenodo.org/records/8177023/files/IGWN-GWTC3p0-v2-GW200306_093714_PEDataRelease_mixed_cosmo.h5   size: 71.6 MB\n",
            "\n",
            "Checksum is correct. (4ed97a63a7d53e7019d9d5cc77e54416)\n",
            "\n",
            "Link: https://zenodo.org/records/8177023/files/IGWN-GWTC3p0-v2-GW191204_110529_PEDataRelease_mixed_nocosmo.h5   size: 393.2 MB\n",
            "\n",
            "Checksum is correct. (fde7a745e027fe5ff60dc86ff1f393ad)\n",
            "\n",
            "Link: https://zenodo.org/records/8177023/files/IGWN-GWTC3p0-v2-PEContours.tar.gz   size: 162.6 MB\n",
            "\n",
            "Checksum is correct. (8c1f4205948dd648ac591db7f6b9abc6)\n",
            "\n",
            "Link: https://zenodo.org/records/8177023/files/IGWN-GWTC3p0-v2-GW191129_134029_PEDataRelease_mixed_cosmo.h5   size: 173.5 MB\n",
            "\n",
            "Checksum is correct. (bfd2d5259871e6d2060a1c2836e3d4b0)\n",
            "\n",
            "Link: https://zenodo.org/records/8177023/files/IGWN-GWTC3p0-v2-GW200128_022011_PEDataRelease_mixed_nocosmo.h5   size: 367.7 MB\n",
            "\n",
            "Checksum is correct. (f6da8fdc149e1113e1c442e6943ce87e)\n",
            "\n",
            "Link: https://zenodo.org/records/8177023/files/IGWN-GWTC3p0-v2-GW200224_222234_PEDataRelease_mixed_nocosmo.h5   size: 824.2 MB\n",
            "\n",
            "Checksum is correct. (cbac6a81190a68e438d727c800159adc)\n",
            "\n",
            "Link: https://zenodo.org/records/8177023/files/IGWN-GWTC3p0-v2-GW200219_094415_PEDataRelease_mixed_nocosmo.h5   size: 596.6 MB\n",
            "\n",
            "Checksum is correct. (792c30bb3bd2f7392cd48669d1f41d63)\n",
            "\n",
            "Link: https://zenodo.org/records/8177023/files/IGWN-GWTC3p0-v2-GW200112_155838_PEDataRelease_mixed_cosmo.h5   size: 139.0 MB\n",
            "\n",
            "Checksum is correct. (255f2c10691dbfe3beced4f81651f85a)\n",
            "\n",
            "Link: https://zenodo.org/records/8177023/files/IGWN-GWTC3p0-v2-GW200316_215756_PEDataRelease_mixed_cosmo.h5   size: 322.6 MB\n",
            "\n",
            "Checksum is correct. (740b725e749394c5932ccc0ebacb9eea)\n",
            "\n",
            "Link: https://zenodo.org/records/8177023/files/IGWN-GWTC3p0-v2-GW191204_110529_PEDataRelease_mixed_cosmo.h5   size: 93.6 MB\n",
            "\n",
            "Checksum is correct. (99cdff0286876ef4b60ef64034cfe18e)\n",
            "\n",
            "Link: https://zenodo.org/records/8177023/files/IGWN-GWTC3p0-v2-GW200105_162426_PEDataRelease_mixed_nocosmo.h5   size: 163.6 MB\n",
            "\n",
            "Checksum is correct. (02b3dc3a07b97845604cd3b8e840428b)\n",
            "\n",
            "Link: https://zenodo.org/records/8177023/files/IGWN-GWTC3p0-v2-GW191109_010717_PEDataRelease_mixed_cosmo.h5   size: 232.7 MB\n",
            "\n",
            "Checksum is correct. (8996f38d76f36ec185408a60e4840e6e)\n",
            "\n",
            "Link: https://zenodo.org/records/8177023/files/IGWN-GWTC3p0-v2-GW200220_124850_PEDataRelease_mixed_nocosmo.h5   size: 267.0 MB\n",
            "\n",
            "Checksum is correct. (f95ece56f342148d3fea621562b5c3e8)\n",
            "\n",
            "Link: https://zenodo.org/records/8177023/files/GWTC3p0PEPlotContourData.ipynb   size: 718.6 kB\n",
            "\n",
            "Checksum is correct. (bb5cc76ff7eff309c9d1b034c8c9a684)\n",
            "\n",
            "Link: https://zenodo.org/records/8177023/files/IGWN-GWTC3p0-v2-GW191216_213338_PEDataRelease_mixed_cosmo.h5   size: 499.8 MB\n",
            "\n",
            "Checksum is correct. (f07c8be2b446b0d7a823f2845e44144f)\n",
            "\n",
            "Link: https://zenodo.org/records/8177023/files/IGWN-GWTC3p0-v2-GW191113_071753_PEDataRelease_mixed_cosmo.h5   size: 155.8 MB\n",
            "\n",
            "Checksum is correct. (788a50e0dc580f0cda01416ad5266245)\n",
            "\n",
            "Link: https://zenodo.org/records/8177023/files/IGWN-GWTC3p0-v2-GW200202_154313_PEDataRelease_mixed_nocosmo.h5   size: 574.6 MB\n",
            "\n",
            "Checksum is correct. (83dd9176855581277fa5ba7d95cf1419)\n",
            "\n",
            "Link: https://zenodo.org/records/8177023/files/IGWN-GWTC3p0-v2-GW200128_022011_PEDataRelease_mixed_cosmo.h5   size: 60.0 MB\n",
            "\n",
            "Checksum is correct. (2d9a3c573a7b1e1d1b40abfe26e595f5)\n",
            "\n",
            "Link: https://zenodo.org/records/8177023/files/IGWN-GWTC3p0-v2-GW191103_012549_PEDataRelease_mixed_cosmo.h5   size: 54.4 MB\n",
            "\n",
            "Checksum is correct. (a85cae3be348c1cdb5c4646ecafb7179)\n",
            "\n",
            "Link: https://zenodo.org/records/8177023/files/IGWN-GWTC3p0-v2-GW191127_050227_PEDataRelease_mixed_cosmo.h5   size: 75.6 MB\n",
            "\n",
            "Checksum is correct. (acc8a0403d1aca8434f531db71f66360)\n",
            "\n",
            "Link: https://zenodo.org/records/8177023/files/IGWN-GWTC3p0-v2-GW191219_163120_PEDataRelease_mixed_cosmo.h5   size: 349.5 MB\n",
            "\n",
            "Checksum is correct. (45216867ac9e5a7253269ac01b098c79)\n",
            "\n",
            "Link: https://zenodo.org/records/8177023/files/IGWN-GWTC3p0-v2-GW200302_015811_PEDataRelease_mixed_nocosmo.h5   size: 279.3 MB\n",
            "\n",
            "Checksum is correct. (bb6f74091e89345ffb62fbff02559638)\n",
            "\n",
            "Link: https://zenodo.org/records/8177023/files/IGWN-GWTC3p0-v2-GW200322_091133_PEDataRelease_mixed_nocosmo.h5   size: 402.5 MB\n",
            "\n",
            "Checksum is correct. (2eecbb4f7a22a352398ae28291e542c6)\n",
            "\n",
            "Link: https://zenodo.org/records/8177023/files/IGWN-GWTC3p0-v2-GW200322_091133_PEDataRelease_mixed_cosmo.h5   size: 21.4 MB\n",
            "\n",
            "Checksum is correct. (8155a9526c898876ac70a5421a9a20df)\n",
            "\n",
            "Link: https://zenodo.org/records/8177023/files/IGWN-GWTC3p0-v2-GW191109_010717_PEDataRelease_mixed_nocosmo.h5   size: 673.7 MB\n",
            "\n",
            "Checksum is correct. (03abeb14f0141c55e4309b0fa5d7701c)\n",
            "\n",
            "Link: https://zenodo.org/records/8177023/files/IGWN-GWTC3p0-v2-GW191113_071753_PEDataRelease_mixed_nocosmo.h5   size: 437.7 MB\n",
            "\n",
            "Checksum is correct. (eeb5076cab630291a6057cdc4b65421b)\n",
            "\n",
            "Link: https://zenodo.org/records/8177023/files/IGWN-GWTC3p0-v2-GW191230_180458_PEDataRelease_mixed_nocosmo.h5   size: 450.1 MB\n",
            "\n",
            "Checksum is correct. (8d5e1d4e136ec49b852f19c3eab6d8a1)\n",
            "\n",
            "Link: https://zenodo.org/records/8177023/files/IGWN-GWTC3p0-v2-GW200209_085452_PEDataRelease_mixed_nocosmo.h5   size: 537.1 MB\n",
            "\n",
            "Checksum is correct. (110a2092a7a8aa8afd8bc6efbcf906ae)\n",
            "\n",
            "Link: https://zenodo.org/records/8177023/files/IGWN-GWTC3p0-v2-GW200219_094415_PEDataRelease_mixed_cosmo.h5   size: 79.8 MB\n",
            "\n",
            "Checksum is correct. (880e7241c31a60f8e3ab7b614770f75c)\n",
            "\n",
            "Link: https://zenodo.org/records/8177023/files/IGWN-GWTC3p0-v2-GW200202_154313_PEDataRelease_mixed_cosmo.h5   size: 336.4 MB\n",
            "\n",
            "Checksum is correct. (eae6009dd28130a928e30358f334a150)\n",
            "\n",
            "Link: https://zenodo.org/records/8177023/files/IGWN-GWTC3p0-v2-GW200225_060421_PEDataRelease_mixed_nocosmo.h5   size: 514.4 MB\n",
            "\n",
            "Checksum is correct. (719e315190c2f3e5c79cddd42ec6658f)\n",
            "\n",
            "Link: https://zenodo.org/records/8177023/files/IGWN-GWTC3p0-v2-GW200115_042309_PEDataRelease_mixed_nocosmo.h5   size: 624.9 MB\n",
            "\n",
            "Checksum is correct. (7aa6dc44f0d9c535ebb53b123a414536)\n",
            "\n",
            "Link: https://zenodo.org/records/8177023/files/IGWN-GWTC3p0-v2-GW191105_143521_PEDataRelease_mixed_cosmo.h5   size: 175.3 MB\n",
            "\n",
            "Checksum is correct. (741b51f86eb31ee079c77665aa1a5846)\n",
            "\n",
            "Link: https://zenodo.org/records/8177023/files/IGWN-GWTC3p0-v2-GW200105_162426_PEDataRelease_mixed_cosmo.h5   size: 235.7 MB\n",
            "\n",
            "Checksum is correct. (fd1897184685bfcd28c366518aabfdda)\n",
            "\n",
            "Link: https://zenodo.org/records/8177023/files/IGWN-GWTC3p0-v2-GW191230_180458_PEDataRelease_mixed_cosmo.h5   size: 61.7 MB\n",
            "\n",
            "Checksum is correct. (73e65458a5e23c67361af39df511bcc2)\n",
            "\n",
            "Link: https://zenodo.org/records/8177023/files/IGWN-GWTC3p0-v2-GW191222_033537_PEDataRelease_mixed_cosmo.h5   size: 60.9 MB\n",
            "\n",
            "Checksum is correct. (b70727261a8d224375e1f34e95ad0408)\n",
            "\n",
            "Link: https://zenodo.org/records/8177023/files/IGWN-GWTC3p0-v2-GW200220_124850_PEDataRelease_mixed_cosmo.h5   size: 34.3 MB\n",
            "\n",
            "Checksum is correct. (2c4c64f83061c834472fc1a6bc4b74ce)\n",
            "\n",
            "Link: https://zenodo.org/records/8177023/files/IGWN-GWTC3p0-v2-GW191219_163120_PEDataRelease_mixed_nocosmo.h5   size: 599.4 MB\n",
            "\n",
            "Checksum is correct. (3ef2d12d22e954e0291cde6c08f525e3)\n",
            "\n",
            "Link: https://zenodo.org/records/8177023/files/IGWN-GWTC3p0-v2-GW200220_061928_PEDataRelease_mixed_cosmo.h5   size: 25.4 MB\n",
            "\n",
            "Checksum is correct. (a1d2ae92a7bfa0f90ae05f2769f6a544)\n",
            "\n",
            "Link: https://zenodo.org/records/8177023/files/IGWN-GWTC3p0-v2-GW200308_173609_PEDataRelease_mixed_nocosmo.h5   size: 408.8 MB\n",
            "\n",
            "Checksum is correct. (29dadcba6bf8f529d06d293c7e28c4f6)\n",
            "\n",
            "Link: https://zenodo.org/records/8177023/files/GWTC3p0PEDataReleaseExample.ipynb   size: 3.6 MB\n",
            "\n",
            "Checksum is correct. (124b8a0d3df5cde4ec58ca4ff7b2ae09)\n",
            "\n",
            "Link: https://zenodo.org/records/8177023/files/IGWN-GWTC3p0-v2-GW191215_223052_PEDataRelease_mixed_cosmo.h5   size: 28.1 MB\n",
            "\n",
            "Checksum is correct. (7dd5c9d5ecc0392f6e9ff2037a79e88b)\n",
            "\n",
            "Link: https://zenodo.org/records/8177023/files/IGWN-GWTC3p0-v2-GW200216_220804_PEDataRelease_mixed_nocosmo.h5   size: 452.2 MB\n",
            "\n",
            "Checksum is correct. (49c6a2ca9ce7887175c0172b398a9eee)\n",
            "\n",
            "Link: https://zenodo.org/records/8177023/files/IGWN-GWTC3p0-v2-GW191204_171526_PEDataRelease_mixed_cosmo.h5   size: 268.7 MB\n",
            "\n",
            "Checksum is correct. (701d4abeb2ae6cf7f37d77d75c0b8ea2)\n",
            "\n",
            "Link: https://zenodo.org/records/8177023/files/IGWN-GWTC3p0-v2-GW200225_060421_PEDataRelease_mixed_cosmo.h5   size: 183.0 MB\n",
            "\n",
            "Checksum is correct. (a2144d794bba8b6a89550afac929c229)\n",
            "\n",
            "Link: https://zenodo.org/records/8177023/files/IGWN-GWTC3p0-v2-GW200316_215756_PEDataRelease_mixed_nocosmo.h5   size: 837.5 MB\n",
            "\n",
            "Checksum is correct. (5e18a6d6851e8d51febb2e3d4d3dd8b6)\n",
            "\n",
            "Link: https://zenodo.org/records/8177023/files/IGWN-GWTC3p0-v2-GW200208_222617_PEDataRelease_mixed_cosmo.h5   size: 69.6 MB\n",
            "\n",
            "Checksum is correct. (d1e43e3bf6af1373d8c95acc48bd5f97)\n",
            "\n",
            "Link: https://zenodo.org/records/8177023/files/IGWN-GWTC3p0-v2-GW191222_033537_PEDataRelease_mixed_nocosmo.h5   size: 365.9 MB\n",
            "\n",
            "Checksum is correct. (50cc7d41614a8cba11aa9cb84b054d3c)\n",
            "\n",
            "Link: https://zenodo.org/records/8177023/files/IGWN-GWTC3p0-v2-GW200216_220804_PEDataRelease_mixed_cosmo.h5   size: 52.3 MB\n",
            "\n",
            "Checksum is correct. (9fcad72ff4c9e95b5fabfc1babd77272)\n",
            "All files have been downloaded.\n"
          ]
        }
      ]
    },
    {
      "cell_type": "markdown",
      "source": [
        "Install the LIGO pesummary which allows us to read the data files."
      ],
      "metadata": {
        "id": "ncUkT4Il92Ms"
      }
    },
    {
      "cell_type": "markdown",
      "source": [
        "BIG WARNING:\n",
        "It seems installing this breaks importing certain packages. I install it on google colab, then restart the runtime and just import the neccessary packages. This gets it to works. Why? I have no idea."
      ],
      "metadata": {
        "id": "5dFjff7-97UQ"
      }
    },
    {
      "cell_type": "code",
      "source": [
        "!source ~/virtualenvs/pesummary_py3.8/bin/activate\n",
        "!python -m pip install pesummary\n",
        "import pesummary\n",
        "print(pesummary.__version__)"
      ],
      "metadata": {
        "colab": {
          "base_uri": "https://localhost:8080/"
        },
        "id": "guIFg984UXwy",
        "outputId": "68ba1d72-8da3-486b-e6a1-6f3ac8674fd0"
      },
      "execution_count": null,
      "outputs": [
        {
          "output_type": "stream",
          "name": "stdout",
          "text": [
            "/bin/bash: line 1: /root/virtualenvs/pesummary_py3.8/bin/activate: No such file or directory\n",
            "Collecting pesummary\n",
            "  Downloading pesummary-1.3.4-py3-none-any.whl.metadata (4.6 kB)\n",
            "Requirement already satisfied: astropy>=5.0 in /usr/local/lib/python3.11/dist-packages (from pesummary) (7.0.1)\n",
            "Collecting corner (from pesummary)\n",
            "  Downloading corner-2.2.3-py3-none-any.whl.metadata (2.2 kB)\n",
            "Collecting deepdish (from pesummary)\n",
            "  Downloading deepdish-0.3.7-py2.py3-none-any.whl.metadata (856 bytes)\n",
            "Collecting gwpy>=3.0.11 (from pesummary)\n",
            "  Downloading gwpy-3.0.12-py3-none-any.whl.metadata (4.9 kB)\n",
            "Requirement already satisfied: h5py in /usr/local/lib/python3.11/dist-packages (from pesummary) (3.13.0)\n",
            "Collecting lalsuite>7.11 (from pesummary)\n",
            "  Downloading lalsuite-7.25.1-cp311-cp311-manylinux_2_28_x86_64.whl.metadata (3.2 kB)\n",
            "Collecting ligo-gracedb (from pesummary)\n",
            "  Downloading ligo_gracedb-2.14.1-py3-none-any.whl.metadata (3.0 kB)\n",
            "Collecting matplotlib<3.10.0,>=3.6.0 (from pesummary)\n",
            "  Downloading matplotlib-3.9.4-cp311-cp311-manylinux_2_17_x86_64.manylinux2014_x86_64.whl.metadata (11 kB)\n",
            "Collecting numpy<2.0.0,>=1.15.4 (from pesummary)\n",
            "  Downloading numpy-1.26.4-cp311-cp311-manylinux_2_17_x86_64.manylinux2014_x86_64.whl.metadata (61 kB)\n",
            "\u001b[2K     \u001b[90m━━━━━━━━━━━━━━━━━━━━━━━━━━━━━━━━━━━━━━━━\u001b[0m \u001b[32m61.0/61.0 kB\u001b[0m \u001b[31m2.0 MB/s\u001b[0m eta \u001b[36m0:00:00\u001b[0m\n",
            "\u001b[?25hRequirement already satisfied: pandas in /usr/local/lib/python3.11/dist-packages (from pesummary) (2.2.2)\n",
            "Requirement already satisfied: pygments in /usr/local/lib/python3.11/dist-packages (from pesummary) (2.18.0)\n",
            "Requirement already satisfied: plotly in /usr/local/lib/python3.11/dist-packages (from pesummary) (5.24.1)\n",
            "Requirement already satisfied: pillow in /usr/local/lib/python3.11/dist-packages (from pesummary) (11.1.0)\n",
            "Collecting seaborn<0.13.0,>=0.12.2 (from pesummary)\n",
            "  Downloading seaborn-0.12.2-py3-none-any.whl.metadata (5.4 kB)\n",
            "Requirement already satisfied: statsmodels in /usr/local/lib/python3.11/dist-packages (from pesummary) (0.14.4)\n",
            "Requirement already satisfied: scipy<1.15.0,>=1.8.0 in /usr/local/lib/python3.11/dist-packages (from pesummary) (1.14.1)\n",
            "Requirement already satisfied: tables in /usr/local/lib/python3.11/dist-packages (from pesummary) (3.10.2)\n",
            "Requirement already satisfied: tqdm>=4.44.0 in /usr/local/lib/python3.11/dist-packages (from pesummary) (4.67.1)\n",
            "Requirement already satisfied: pyerfa>=2.0.1.1 in /usr/local/lib/python3.11/dist-packages (from astropy>=5.0->pesummary) (2.0.1.5)\n",
            "Requirement already satisfied: astropy-iers-data>=0.2025.1.31.12.41.4 in /usr/local/lib/python3.11/dist-packages (from astropy>=5.0->pesummary) (0.2025.3.24.0.35.32)\n",
            "Requirement already satisfied: PyYAML>=6.0.0 in /usr/local/lib/python3.11/dist-packages (from astropy>=5.0->pesummary) (6.0.2)\n",
            "Requirement already satisfied: packaging>=22.0.0 in /usr/local/lib/python3.11/dist-packages (from astropy>=5.0->pesummary) (24.2)\n",
            "Collecting dateparser>=1.1.4 (from gwpy>=3.0.11->pesummary)\n",
            "  Downloading dateparser-1.2.1-py3-none-any.whl.metadata (29 kB)\n",
            "Collecting dqsegdb2 (from gwpy>=3.0.11->pesummary)\n",
            "  Downloading dqsegdb2-1.3.0-py3-none-any.whl.metadata (3.6 kB)\n",
            "Collecting gwdatafind>=1.1.0 (from gwpy>=3.0.11->pesummary)\n",
            "  Downloading gwdatafind-1.2.0-py3-none-any.whl.metadata (3.9 kB)\n",
            "Collecting gwosc>=0.5.3 (from gwpy>=3.0.11->pesummary)\n",
            "  Downloading gwosc-0.8.0-py3-none-any.whl.metadata (6.2 kB)\n",
            "Collecting igwn-segments>=2.0.0 (from gwpy>=3.0.11->pesummary)\n",
            "  Downloading igwn_segments-2.0.0-cp311-cp311-manylinux_2_5_x86_64.manylinux1_x86_64.manylinux_2_28_x86_64.whl.metadata (1.9 kB)\n",
            "Collecting ligotimegps>=1.2.1 (from gwpy>=3.0.11->pesummary)\n",
            "  Downloading ligotimegps-2.0.1-py2.py3-none-any.whl.metadata (2.6 kB)\n",
            "Requirement already satisfied: python-dateutil in /usr/local/lib/python3.11/dist-packages (from gwpy>=3.0.11->pesummary) (2.8.2)\n",
            "Requirement already satisfied: requests>=2.20.0 in /usr/local/lib/python3.11/dist-packages (from gwpy>=3.0.11->pesummary) (2.32.3)\n",
            "Collecting ligo-segments (from lalsuite>7.11->pesummary)\n",
            "  Downloading ligo-segments-1.4.0.tar.gz (51 kB)\n",
            "\u001b[2K     \u001b[90m━━━━━━━━━━━━━━━━━━━━━━━━━━━━━━━━━━━━━━━━\u001b[0m \u001b[32m51.0/51.0 kB\u001b[0m \u001b[31m2.8 MB/s\u001b[0m eta \u001b[36m0:00:00\u001b[0m\n",
            "\u001b[?25h  Preparing metadata (setup.py) ... \u001b[?25l\u001b[?25hdone\n",
            "Collecting lscsoft-glue (from lalsuite>7.11->pesummary)\n",
            "  Downloading lscsoft_glue-4.1.0-py3-none-any.whl.metadata (1.5 kB)\n",
            "Requirement already satisfied: contourpy>=1.0.1 in /usr/local/lib/python3.11/dist-packages (from matplotlib<3.10.0,>=3.6.0->pesummary) (1.3.1)\n",
            "Requirement already satisfied: cycler>=0.10 in /usr/local/lib/python3.11/dist-packages (from matplotlib<3.10.0,>=3.6.0->pesummary) (0.12.1)\n",
            "Requirement already satisfied: fonttools>=4.22.0 in /usr/local/lib/python3.11/dist-packages (from matplotlib<3.10.0,>=3.6.0->pesummary) (4.56.0)\n",
            "Requirement already satisfied: kiwisolver>=1.3.1 in /usr/local/lib/python3.11/dist-packages (from matplotlib<3.10.0,>=3.6.0->pesummary) (1.4.8)\n",
            "Requirement already satisfied: pyparsing>=2.3.1 in /usr/local/lib/python3.11/dist-packages (from matplotlib<3.10.0,>=3.6.0->pesummary) (3.2.3)\n",
            "Requirement already satisfied: pytz>=2020.1 in /usr/local/lib/python3.11/dist-packages (from pandas->pesummary) (2025.2)\n",
            "Requirement already satisfied: tzdata>=2022.7 in /usr/local/lib/python3.11/dist-packages (from pandas->pesummary) (2025.2)\n",
            "Requirement already satisfied: cryptography>=1.7.2 in /usr/local/lib/python3.11/dist-packages (from ligo-gracedb->pesummary) (43.0.3)\n",
            "Collecting igwn-auth-utils>=1.0.0 (from ligo-gracedb->pesummary)\n",
            "  Downloading igwn_auth_utils-1.3.1-py3-none-any.whl.metadata (4.1 kB)\n",
            "Requirement already satisfied: tenacity>=6.2.0 in /usr/local/lib/python3.11/dist-packages (from plotly->pesummary) (9.0.0)\n",
            "Requirement already satisfied: patsy>=0.5.6 in /usr/local/lib/python3.11/dist-packages (from statsmodels->pesummary) (1.0.1)\n",
            "Requirement already satisfied: numexpr>=2.6.2 in /usr/local/lib/python3.11/dist-packages (from tables->pesummary) (2.10.2)\n",
            "Requirement already satisfied: py-cpuinfo in /usr/local/lib/python3.11/dist-packages (from tables->pesummary) (9.0.0)\n",
            "Requirement already satisfied: blosc2>=2.3.0 in /usr/local/lib/python3.11/dist-packages (from tables->pesummary) (3.2.1)\n",
            "Requirement already satisfied: typing-extensions>=4.4.0 in /usr/local/lib/python3.11/dist-packages (from tables->pesummary) (4.13.0)\n",
            "Requirement already satisfied: ndindex in /usr/local/lib/python3.11/dist-packages (from blosc2>=2.3.0->tables->pesummary) (1.9.2)\n",
            "Requirement already satisfied: msgpack in /usr/local/lib/python3.11/dist-packages (from blosc2>=2.3.0->tables->pesummary) (1.1.0)\n",
            "Requirement already satisfied: platformdirs in /usr/local/lib/python3.11/dist-packages (from blosc2>=2.3.0->tables->pesummary) (4.3.7)\n",
            "Requirement already satisfied: cffi>=1.12 in /usr/local/lib/python3.11/dist-packages (from cryptography>=1.7.2->ligo-gracedb->pesummary) (1.17.1)\n",
            "Requirement already satisfied: regex!=2019.02.19,!=2021.8.27,>=2015.06.24 in /usr/local/lib/python3.11/dist-packages (from dateparser>=1.1.4->gwpy>=3.0.11->pesummary) (2024.11.6)\n",
            "Requirement already satisfied: tzlocal>=0.2 in /usr/local/lib/python3.11/dist-packages (from dateparser>=1.1.4->gwpy>=3.0.11->pesummary) (5.3.1)\n",
            "Collecting cryptography>=1.7.2 (from ligo-gracedb->pesummary)\n",
            "  Downloading cryptography-44.0.2-cp39-abi3-manylinux_2_34_x86_64.whl.metadata (5.7 kB)\n",
            "Collecting safe-netrc>=1.0 (from igwn-auth-utils>=1.0.0->ligo-gracedb->pesummary)\n",
            "  Downloading safe_netrc-1.0.1-py3-none-any.whl.metadata (1.9 kB)\n",
            "Collecting scitokens>=1.8 (from igwn-auth-utils>=1.0.0->ligo-gracedb->pesummary)\n",
            "  Downloading scitokens-1.8.1-py3-none-any.whl.metadata (12 kB)\n",
            "Requirement already satisfied: six>=1.5 in /usr/local/lib/python3.11/dist-packages (from python-dateutil->gwpy>=3.0.11->pesummary) (1.17.0)\n",
            "Requirement already satisfied: charset-normalizer<4,>=2 in /usr/local/lib/python3.11/dist-packages (from requests>=2.20.0->gwpy>=3.0.11->pesummary) (3.4.1)\n",
            "Requirement already satisfied: idna<4,>=2.5 in /usr/local/lib/python3.11/dist-packages (from requests>=2.20.0->gwpy>=3.0.11->pesummary) (3.10)\n",
            "Requirement already satisfied: urllib3<3,>=1.21.1 in /usr/local/lib/python3.11/dist-packages (from requests>=2.20.0->gwpy>=3.0.11->pesummary) (2.3.0)\n",
            "Requirement already satisfied: certifi>=2017.4.17 in /usr/local/lib/python3.11/dist-packages (from requests>=2.20.0->gwpy>=3.0.11->pesummary) (2025.1.31)\n",
            "Requirement already satisfied: click>=6.7 in /usr/local/lib/python3.11/dist-packages (from dqsegdb2->gwpy>=3.0.11->pesummary) (8.1.8)\n",
            "Requirement already satisfied: pycparser in /usr/local/lib/python3.11/dist-packages (from cffi>=1.12->cryptography>=1.7.2->ligo-gracedb->pesummary) (2.22)\n",
            "Requirement already satisfied: PyJWT>=1.6.1 in /usr/local/lib/python3.11/dist-packages (from scitokens>=1.8->igwn-auth-utils>=1.0.0->ligo-gracedb->pesummary) (2.10.1)\n",
            "Downloading pesummary-1.3.4-py3-none-any.whl (1.1 MB)\n",
            "\u001b[2K   \u001b[90m━━━━━━━━━━━━━━━━━━━━━━━━━━━━━━━━━━━━━━━━\u001b[0m \u001b[32m1.1/1.1 MB\u001b[0m \u001b[31m8.0 MB/s\u001b[0m eta \u001b[36m0:00:00\u001b[0m\n",
            "\u001b[?25hDownloading gwpy-3.0.12-py3-none-any.whl (1.4 MB)\n",
            "\u001b[2K   \u001b[90m━━━━━━━━━━━━━━━━━━━━━━━━━━━━━━━━━━━━━━━━\u001b[0m \u001b[32m1.4/1.4 MB\u001b[0m \u001b[31m34.2 MB/s\u001b[0m eta \u001b[36m0:00:00\u001b[0m\n",
            "\u001b[?25hDownloading lalsuite-7.25.1-cp311-cp311-manylinux_2_28_x86_64.whl (40.4 MB)\n",
            "\u001b[2K   \u001b[90m━━━━━━━━━━━━━━━━━━━━━━━━━━━━━━━━━━━━━━━━\u001b[0m \u001b[32m40.4/40.4 MB\u001b[0m \u001b[31m15.8 MB/s\u001b[0m eta \u001b[36m0:00:00\u001b[0m\n",
            "\u001b[?25hDownloading matplotlib-3.9.4-cp311-cp311-manylinux_2_17_x86_64.manylinux2014_x86_64.whl (8.3 MB)\n",
            "\u001b[2K   \u001b[90m━━━━━━━━━━━━━━━━━━━━━━━━━━━━━━━━━━━━━━━━\u001b[0m \u001b[32m8.3/8.3 MB\u001b[0m \u001b[31m53.6 MB/s\u001b[0m eta \u001b[36m0:00:00\u001b[0m\n",
            "\u001b[?25hDownloading numpy-1.26.4-cp311-cp311-manylinux_2_17_x86_64.manylinux2014_x86_64.whl (18.3 MB)\n",
            "\u001b[2K   \u001b[90m━━━━━━━━━━━━━━━━━━━━━━━━━━━━━━━━━━━━━━━━\u001b[0m \u001b[32m18.3/18.3 MB\u001b[0m \u001b[31m46.8 MB/s\u001b[0m eta \u001b[36m0:00:00\u001b[0m\n",
            "\u001b[?25hDownloading seaborn-0.12.2-py3-none-any.whl (293 kB)\n",
            "\u001b[2K   \u001b[90m━━━━━━━━━━━━━━━━━━━━━━━━━━━━━━━━━━━━━━━━\u001b[0m \u001b[32m293.3/293.3 kB\u001b[0m \u001b[31m13.0 MB/s\u001b[0m eta \u001b[36m0:00:00\u001b[0m\n",
            "\u001b[?25hDownloading corner-2.2.3-py3-none-any.whl (15 kB)\n",
            "Downloading deepdish-0.3.7-py2.py3-none-any.whl (37 kB)\n",
            "Downloading ligo_gracedb-2.14.1-py3-none-any.whl (2.5 MB)\n",
            "\u001b[2K   \u001b[90m━━━━━━━━━━━━━━━━━━━━━━━━━━━━━━━━━━━━━━━━\u001b[0m \u001b[32m2.5/2.5 MB\u001b[0m \u001b[31m12.0 MB/s\u001b[0m eta \u001b[36m0:00:00\u001b[0m\n",
            "\u001b[?25hDownloading dateparser-1.2.1-py3-none-any.whl (295 kB)\n",
            "\u001b[2K   \u001b[90m━━━━━━━━━━━━━━━━━━━━━━━━━━━━━━━━━━━━━━━━\u001b[0m \u001b[32m295.7/295.7 kB\u001b[0m \u001b[31m16.9 MB/s\u001b[0m eta \u001b[36m0:00:00\u001b[0m\n",
            "\u001b[?25hDownloading gwdatafind-1.2.0-py3-none-any.whl (45 kB)\n",
            "\u001b[2K   \u001b[90m━━━━━━━━━━━━━━━━━━━━━━━━━━━━━━━━━━━━━━━━\u001b[0m \u001b[32m45.5/45.5 kB\u001b[0m \u001b[31m2.8 MB/s\u001b[0m eta \u001b[36m0:00:00\u001b[0m\n",
            "\u001b[?25hDownloading gwosc-0.8.0-py3-none-any.whl (32 kB)\n",
            "Downloading igwn_auth_utils-1.3.1-py3-none-any.whl (34 kB)\n",
            "Downloading cryptography-44.0.2-cp39-abi3-manylinux_2_34_x86_64.whl (4.2 MB)\n",
            "\u001b[2K   \u001b[90m━━━━━━━━━━━━━━━━━━━━━━━━━━━━━━━━━━━━━━━━\u001b[0m \u001b[32m4.2/4.2 MB\u001b[0m \u001b[31m49.4 MB/s\u001b[0m eta \u001b[36m0:00:00\u001b[0m\n",
            "\u001b[?25hDownloading igwn_segments-2.0.0-cp311-cp311-manylinux_2_5_x86_64.manylinux1_x86_64.manylinux_2_28_x86_64.whl (110 kB)\n",
            "\u001b[2K   \u001b[90m━━━━━━━━━━━━━━━━━━━━━━━━━━━━━━━━━━━━━━━━\u001b[0m \u001b[32m110.5/110.5 kB\u001b[0m \u001b[31m8.5 MB/s\u001b[0m eta \u001b[36m0:00:00\u001b[0m\n",
            "\u001b[?25hDownloading ligotimegps-2.0.1-py2.py3-none-any.whl (19 kB)\n",
            "Downloading dqsegdb2-1.3.0-py3-none-any.whl (27 kB)\n",
            "Downloading lscsoft_glue-4.1.0-py3-none-any.whl (50 kB)\n",
            "\u001b[2K   \u001b[90m━━━━━━━━━━━━━━━━━━━━━━━━━━━━━━━━━━━━━━━━\u001b[0m \u001b[32m50.1/50.1 kB\u001b[0m \u001b[31m2.7 MB/s\u001b[0m eta \u001b[36m0:00:00\u001b[0m\n",
            "\u001b[?25hDownloading safe_netrc-1.0.1-py3-none-any.whl (10 kB)\n",
            "Downloading scitokens-1.8.1-py3-none-any.whl (31 kB)\n",
            "Building wheels for collected packages: ligo-segments\n",
            "  Building wheel for ligo-segments (setup.py) ... \u001b[?25l\u001b[?25hdone\n",
            "  Created wheel for ligo-segments: filename=ligo_segments-1.4.0-cp311-cp311-linux_x86_64.whl size=102032 sha256=d3e1c1042b30efcf15cfe5b5aedbd8576110fbde58b3c696b27152ed8b7a8007\n",
            "  Stored in directory: /root/.cache/pip/wheels/02/2b/93/c2ee2b6f4ea9572ee4f5ade0115c4bd0887be6228328740dae\n",
            "Successfully built ligo-segments\n",
            "Installing collected packages: igwn-segments, safe-netrc, numpy, lscsoft-glue, ligotimegps, ligo-segments, gwosc, dateparser, cryptography, scitokens, matplotlib, seaborn, lalsuite, igwn-auth-utils, corner, ligo-gracedb, gwdatafind, dqsegdb2, deepdish, gwpy, pesummary\n",
            "  Attempting uninstall: numpy\n",
            "    Found existing installation: numpy 2.0.2\n",
            "    Uninstalling numpy-2.0.2:\n",
            "      Successfully uninstalled numpy-2.0.2\n",
            "  Attempting uninstall: cryptography\n",
            "    Found existing installation: cryptography 43.0.3\n",
            "    Uninstalling cryptography-43.0.3:\n",
            "      Successfully uninstalled cryptography-43.0.3\n",
            "  Attempting uninstall: matplotlib\n",
            "    Found existing installation: matplotlib 3.10.0\n",
            "    Uninstalling matplotlib-3.10.0:\n",
            "      Successfully uninstalled matplotlib-3.10.0\n",
            "  Attempting uninstall: seaborn\n",
            "    Found existing installation: seaborn 0.13.2\n",
            "    Uninstalling seaborn-0.13.2:\n",
            "      Successfully uninstalled seaborn-0.13.2\n",
            "\u001b[31mERROR: pip's dependency resolver does not currently take into account all the packages that are installed. This behaviour is the source of the following dependency conflicts.\n",
            "pyopenssl 24.2.1 requires cryptography<44,>=41.0.5, but you have cryptography 44.0.2 which is incompatible.\n",
            "pydrive2 1.21.3 requires cryptography<44, but you have cryptography 44.0.2 which is incompatible.\u001b[0m\u001b[31m\n",
            "\u001b[0mSuccessfully installed corner-2.2.3 cryptography-44.0.2 dateparser-1.2.1 deepdish-0.3.7 dqsegdb2-1.3.0 gwdatafind-1.2.0 gwosc-0.8.0 gwpy-3.0.12 igwn-auth-utils-1.3.1 igwn-segments-2.0.0 lalsuite-7.25.1 ligo-gracedb-2.14.1 ligo-segments-1.4.0 ligotimegps-2.0.1 lscsoft-glue-4.1.0 matplotlib-3.9.4 numpy-1.26.4 pesummary-1.3.4 safe-netrc-1.0.1 scitokens-1.8.1 seaborn-0.12.2\n",
            "1.3.4\n"
          ]
        }
      ]
    },
    {
      "cell_type": "markdown",
      "source": [
        "Import all packages needed"
      ],
      "metadata": {
        "id": "RqxSxtXI-KTx"
      }
    },
    {
      "cell_type": "code",
      "source": [
        "import matplotlib.pyplot as plt\n",
        "import numpy as np\n",
        "import seaborn as sb\n",
        "import pandas as pd\n",
        "import os\n",
        "from google.colab import drive\n",
        "%matplotlib inline\n",
        "%config InlineBackend.figure_format='retina'\n",
        "\n",
        "import warnings\n",
        "\n",
        "warnings.filterwarnings('ignore')\n",
        "import pesummary\n",
        "\n",
        "from pesummary.io import read\n",
        "print(pesummary.__version__)\n",
        "import h5py\n",
        "\n",
        "from pesummary.utils.utils import logger\n",
        "import logging\n",
        "logger.setLevel(logging.CRITICAL)\n"
      ],
      "metadata": {
        "colab": {
          "base_uri": "https://localhost:8080/"
        },
        "id": "ogli5KSDUacM",
        "outputId": "58f3f5c0-8837-4f21-fb2e-7ef2804e5f03"
      },
      "execution_count": null,
      "outputs": [
        {
          "output_type": "stream",
          "name": "stdout",
          "text": [
            "1.3.4\n"
          ]
        }
      ]
    },
    {
      "cell_type": "code",
      "source": [
        "#ras=np.array([])\n",
        "#decs=[]\n",
        "#times=[]\n"
      ],
      "metadata": {
        "id": "BlgSqlBIUfNI"
      },
      "execution_count": null,
      "outputs": []
    },
    {
      "cell_type": "markdown",
      "source": [
        "Grab data. We only want files with that are associated with mixed comsos. Then we read all files and grab the parameters we need which are right ascension, declination, and geocentric time. We also create weights associated with each parameter estimation. This is used for creating contours later on. We create a big array with values from each event, and finally create a dataframe that holds all the parameters.\n",
        "Note: One event does not have a geocentric time associated with it, we will deal with this troublesome individual later in the code."
      ],
      "metadata": {
        "id": "_PW4qb3f-NjQ"
      }
    },
    {
      "cell_type": "code",
      "source": [
        "ras=np.array([])\n",
        "decs=np.array([])\n",
        "times=np.array([])\n",
        "weights=np.array([])\n",
        "\n",
        "\n",
        "for file in os.listdir('/content/'):\n",
        " if file.endswith('mixed_cosmo.h5'):\n",
        "  print(file)\n",
        "  data = read(file)\n",
        "  samples_dict = data.samples_dict\n",
        "  try:\n",
        "   posterior_samples = samples_dict['C01:Mixed']\n",
        "  except:\n",
        "   posterior_samples = samples_dict['C01:IMRPhenomPv2_NRTidal:HighSpin']\n",
        "  try:\n",
        "   ra=posterior_samples['ra']\n",
        "   dec=posterior_samples['dec']\n",
        "   time=posterior_samples['geocent_time']\n",
        "   weight=np.ones_like(ra)/len(ra)\n",
        "   ras=np.concatenate([ras,ra])\n",
        "   decs=np.concatenate([decs,dec])\n",
        "   times=np.concatenate([times,time])\n",
        "   weights=np.concatenate([weights,weight])\n",
        "   print('done with ' + str(file))\n",
        "  except:\n",
        "    for keys in posterior_samples.keys():\n",
        "      print(keys)\n",
        "\n",
        " else:\n",
        "  continue\n",
        "\n",
        "df=pd.DataFrame({'ra':ras,'dec':decs,'times':times,'weights':weights})#'time':times,\n"
      ],
      "metadata": {
        "colab": {
          "base_uri": "https://localhost:8080/"
        },
        "id": "gsfbqM_gUiih",
        "outputId": "60ab5d7d-3d2c-4d89-997b-6602f74e5b4e"
      },
      "execution_count": null,
      "outputs": [
        {
          "output_type": "stream",
          "name": "stdout",
          "text": [
            "IGWN-GWTC3p0-v2-GW200128_022011_PEDataRelease_mixed_cosmo.h5\n",
            "done with IGWN-GWTC3p0-v2-GW200128_022011_PEDataRelease_mixed_cosmo.h5\n",
            "IGWN-GWTC3p0-v2-GW191113_071753_PEDataRelease_mixed_cosmo.h5\n",
            "done with IGWN-GWTC3p0-v2-GW191113_071753_PEDataRelease_mixed_cosmo.h5\n",
            "IGWN-GWTC3p0-v2-GW200105_162426_PEDataRelease_mixed_cosmo.h5\n",
            "done with IGWN-GWTC3p0-v2-GW200105_162426_PEDataRelease_mixed_cosmo.h5\n",
            "IGWN-GWTC3p0-v2-GW191216_213338_PEDataRelease_mixed_cosmo.h5\n",
            "done with IGWN-GWTC3p0-v2-GW191216_213338_PEDataRelease_mixed_cosmo.h5\n",
            "IGWN-GWTC3p0-v2-GW191204_110529_PEDataRelease_mixed_cosmo.h5\n",
            "done with IGWN-GWTC3p0-v2-GW191204_110529_PEDataRelease_mixed_cosmo.h5\n",
            "IGWN-GWTC3p0-v2-GW200224_222234_PEDataRelease_mixed_cosmo.h5\n",
            "done with IGWN-GWTC3p0-v2-GW200224_222234_PEDataRelease_mixed_cosmo.h5\n",
            "IGWN-GWTC3p0-v2-GW200115_042309_PEDataRelease_mixed_cosmo.h5\n",
            "done with IGWN-GWTC3p0-v2-GW200115_042309_PEDataRelease_mixed_cosmo.h5\n",
            "IGWN-GWTC3p0-v2-GW200302_015811_PEDataRelease_mixed_cosmo.h5\n",
            "done with IGWN-GWTC3p0-v2-GW200302_015811_PEDataRelease_mixed_cosmo.h5\n",
            "IGWN-GWTC3p0-v2-GW200209_085452_PEDataRelease_mixed_cosmo.h5\n",
            "done with IGWN-GWTC3p0-v2-GW200209_085452_PEDataRelease_mixed_cosmo.h5\n",
            "IGWN-GWTC3p0-v2-GW191103_012549_PEDataRelease_mixed_cosmo.h5\n",
            "done with IGWN-GWTC3p0-v2-GW191103_012549_PEDataRelease_mixed_cosmo.h5\n",
            "IGWN-GWTC3p0-v2-GW200311_115853_PEDataRelease_mixed_cosmo.h5\n",
            "done with IGWN-GWTC3p0-v2-GW200311_115853_PEDataRelease_mixed_cosmo.h5\n",
            "IGWN-GWTC3p0-v2-GW200112_155838_PEDataRelease_mixed_cosmo.h5\n",
            "done with IGWN-GWTC3p0-v2-GW200112_155838_PEDataRelease_mixed_cosmo.h5\n",
            "IGWN-GWTC3p0-v2-GW200316_215756_PEDataRelease_mixed_cosmo.h5\n",
            "done with IGWN-GWTC3p0-v2-GW200316_215756_PEDataRelease_mixed_cosmo.h5\n",
            "IGWN-GWTC3p0-v2-GW200225_060421_PEDataRelease_mixed_cosmo.h5\n",
            "done with IGWN-GWTC3p0-v2-GW200225_060421_PEDataRelease_mixed_cosmo.h5\n",
            "IGWN-GWTC3p0-v2-GW200308_173609_PEDataRelease_mixed_cosmo.h5\n",
            "beta\n",
            "iota\n",
            "tilt_1_infinity_only_prec_avg\n",
            "chirp_mass\n",
            "symmetric_mass_ratio\n",
            "chi_eff_infinity_only_prec_avg\n",
            "phi_1\n",
            "radiated_energy\n",
            "psi_J\n",
            "chi_p\n",
            "tilt_1\n",
            "dec\n",
            "mass_1\n",
            "mass_2\n",
            "chi_eff\n",
            "cos_theta_jn\n",
            "cos_tilt_1_infinity_only_prec_avg\n",
            "cos_tilt_2\n",
            "final_mass\n",
            "total_mass\n",
            "mass_ratio\n",
            "psi\n",
            "spin_1y\n",
            "phi_jl\n",
            "spin_1z\n",
            "phi_2\n",
            "phi_12\n",
            "total_mass_source\n",
            "cos_tilt_2_infinity_only_prec_avg\n",
            "spin_1x\n",
            "cos_tilt_1\n",
            "inverted_mass_ratio\n",
            "cos_iota\n",
            "spin_2x\n",
            "theta_jn\n",
            "tilt_2_infinity_only_prec_avg\n",
            "log_likelihood\n",
            "spin_2z\n",
            "a_1\n",
            "chi_p_2spin\n",
            "phase\n",
            "ra\n",
            "mass_2_source\n",
            "spin_2y\n",
            "chi_p_infinity_only_prec_avg\n",
            "final_mass_source\n",
            "luminosity_distance\n",
            "redshift\n",
            "a_2\n",
            "viewing_angle\n",
            "chirp_mass_source\n",
            "comoving_distance\n",
            "spin_2z_infinity_only_prec_avg\n",
            "final_spin\n",
            "spin_1z_infinity_only_prec_avg\n",
            "tilt_2\n",
            "mass_1_source\n",
            "peak_luminosity\n",
            "psi_wrapped\n",
            "IGWN-GWTC3p0-v2-GW200208_222617_PEDataRelease_mixed_cosmo.h5\n",
            "done with IGWN-GWTC3p0-v2-GW200208_222617_PEDataRelease_mixed_cosmo.h5\n",
            "IGWN-GWTC3p0-v2-GW200202_154313_PEDataRelease_mixed_cosmo.h5\n",
            "done with IGWN-GWTC3p0-v2-GW200202_154313_PEDataRelease_mixed_cosmo.h5\n",
            "IGWN-GWTC3p0-v2-GW191126_115259_PEDataRelease_mixed_cosmo.h5\n",
            "done with IGWN-GWTC3p0-v2-GW191126_115259_PEDataRelease_mixed_cosmo.h5\n",
            "IGWN-GWTC3p0-v2-GW191129_134029_PEDataRelease_mixed_cosmo.h5\n",
            "done with IGWN-GWTC3p0-v2-GW191129_134029_PEDataRelease_mixed_cosmo.h5\n",
            "IGWN-GWTC3p0-v2-GW191215_223052_PEDataRelease_mixed_cosmo.h5\n",
            "done with IGWN-GWTC3p0-v2-GW191215_223052_PEDataRelease_mixed_cosmo.h5\n",
            "IGWN-GWTC3p0-v2-GW200220_061928_PEDataRelease_mixed_cosmo.h5\n",
            "done with IGWN-GWTC3p0-v2-GW200220_061928_PEDataRelease_mixed_cosmo.h5\n",
            "IGWN-GWTC3p0-v2-GW200306_093714_PEDataRelease_mixed_cosmo.h5\n",
            "done with IGWN-GWTC3p0-v2-GW200306_093714_PEDataRelease_mixed_cosmo.h5\n",
            "IGWN-GWTC3p0-v2-GW200129_065458_PEDataRelease_mixed_cosmo.h5\n",
            "done with IGWN-GWTC3p0-v2-GW200129_065458_PEDataRelease_mixed_cosmo.h5\n",
            "IGWN-GWTC3p0-v2-GW200210_092254_PEDataRelease_mixed_cosmo.h5\n",
            "done with IGWN-GWTC3p0-v2-GW200210_092254_PEDataRelease_mixed_cosmo.h5\n",
            "IGWN-GWTC3p0-v2-GW191105_143521_PEDataRelease_mixed_cosmo.h5\n",
            "done with IGWN-GWTC3p0-v2-GW191105_143521_PEDataRelease_mixed_cosmo.h5\n",
            "IGWN-GWTC3p0-v2-GW191219_163120_PEDataRelease_mixed_cosmo.h5\n",
            "done with IGWN-GWTC3p0-v2-GW191219_163120_PEDataRelease_mixed_cosmo.h5\n",
            "IGWN-GWTC3p0-v2-GW191230_180458_PEDataRelease_mixed_cosmo.h5\n",
            "done with IGWN-GWTC3p0-v2-GW191230_180458_PEDataRelease_mixed_cosmo.h5\n",
            "IGWN-GWTC3p0-v2-GW200220_124850_PEDataRelease_mixed_cosmo.h5\n",
            "done with IGWN-GWTC3p0-v2-GW200220_124850_PEDataRelease_mixed_cosmo.h5\n",
            "IGWN-GWTC3p0-v2-GW200208_130117_PEDataRelease_mixed_cosmo.h5\n",
            "done with IGWN-GWTC3p0-v2-GW200208_130117_PEDataRelease_mixed_cosmo.h5\n",
            "IGWN-GWTC3p0-v2-GW200219_094415_PEDataRelease_mixed_cosmo.h5\n",
            "done with IGWN-GWTC3p0-v2-GW200219_094415_PEDataRelease_mixed_cosmo.h5\n",
            "IGWN-GWTC3p0-v2-GW191204_171526_PEDataRelease_mixed_cosmo.h5\n",
            "done with IGWN-GWTC3p0-v2-GW191204_171526_PEDataRelease_mixed_cosmo.h5\n",
            "IGWN-GWTC3p0-v2-GW191127_050227_PEDataRelease_mixed_cosmo.h5\n",
            "done with IGWN-GWTC3p0-v2-GW191127_050227_PEDataRelease_mixed_cosmo.h5\n",
            "IGWN-GWTC3p0-v2-GW191222_033537_PEDataRelease_mixed_cosmo.h5\n",
            "done with IGWN-GWTC3p0-v2-GW191222_033537_PEDataRelease_mixed_cosmo.h5\n",
            "IGWN-GWTC3p0-v2-GW191109_010717_PEDataRelease_mixed_cosmo.h5\n",
            "done with IGWN-GWTC3p0-v2-GW191109_010717_PEDataRelease_mixed_cosmo.h5\n",
            "IGWN-GWTC3p0-v2-GW200322_091133_PEDataRelease_mixed_cosmo.h5\n",
            "done with IGWN-GWTC3p0-v2-GW200322_091133_PEDataRelease_mixed_cosmo.h5\n",
            "IGWN-GWTC3p0-v2-GW200216_220804_PEDataRelease_mixed_cosmo.h5\n",
            "done with IGWN-GWTC3p0-v2-GW200216_220804_PEDataRelease_mixed_cosmo.h5\n"
          ]
        }
      ]
    },
    {
      "cell_type": "markdown",
      "source": [
        "Mount the drive so that we are able to save the data file of the third run."
      ],
      "metadata": {
        "id": "gpBoibdA_MyK"
      }
    },
    {
      "cell_type": "code",
      "source": [
        "drive.mount('/content/drive')\n",
        "df.to_csv('/content/drive/MyDrive/PHYS 549/GW3data.csv', index=False)"
      ],
      "metadata": {
        "colab": {
          "base_uri": "https://localhost:8080/",
          "height": 176
        },
        "id": "fp1GoTpCUqIF",
        "outputId": "9c66f404-3f49-4688-8993-e9ddc516ecf0"
      },
      "execution_count": null,
      "outputs": [
        {
          "output_type": "stream",
          "name": "stdout",
          "text": [
            "Mounted at /content/drive\n"
          ]
        },
        {
          "output_type": "error",
          "ename": "NameError",
          "evalue": "name 'df' is not defined",
          "traceback": [
            "\u001b[0;31m---------------------------------------------------------------------------\u001b[0m",
            "\u001b[0;31mNameError\u001b[0m                                 Traceback (most recent call last)",
            "\u001b[0;32m<ipython-input-4-4ccd149f5a69>\u001b[0m in \u001b[0;36m<cell line: 0>\u001b[0;34m()\u001b[0m\n\u001b[1;32m      1\u001b[0m \u001b[0mdrive\u001b[0m\u001b[0;34m.\u001b[0m\u001b[0mmount\u001b[0m\u001b[0;34m(\u001b[0m\u001b[0;34m'/content/drive'\u001b[0m\u001b[0;34m)\u001b[0m\u001b[0;34m\u001b[0m\u001b[0;34m\u001b[0m\u001b[0m\n\u001b[0;32m----> 2\u001b[0;31m \u001b[0mdf\u001b[0m\u001b[0;34m.\u001b[0m\u001b[0mto_csv\u001b[0m\u001b[0;34m(\u001b[0m\u001b[0;34m'/content/drive/MyDrive/PHYS 549/GW3data.csv'\u001b[0m\u001b[0;34m,\u001b[0m \u001b[0mindex\u001b[0m\u001b[0;34m=\u001b[0m\u001b[0;32mFalse\u001b[0m\u001b[0;34m)\u001b[0m\u001b[0;34m\u001b[0m\u001b[0;34m\u001b[0m\u001b[0m\n\u001b[0m",
            "\u001b[0;31mNameError\u001b[0m: name 'df' is not defined"
          ]
        }
      ]
    },
    {
      "cell_type": "markdown",
      "source": [
        "Plot third run to see what it looks like."
      ],
      "metadata": {
        "id": "L70On81E_SZr"
      }
    },
    {
      "cell_type": "code",
      "source": [
        "sb.kdeplot(data=df, x=\"dec\", y=\"ra\", cmap=\"mako\", weights='weights',fill=True)\n",
        "plt.show()"
      ],
      "metadata": {
        "colab": {
          "base_uri": "https://localhost:8080/",
          "height": 459
        },
        "id": "ugedp-OCUsE2",
        "outputId": "316b0b05-012b-4e08-dd1e-ff3e1cd2ddd8"
      },
      "execution_count": null,
      "outputs": [
        {
          "output_type": "display_data",
          "data": {
            "text/plain": [
              "<Figure size 640x480 with 1 Axes>"
            ],
            "image/png": "[encoded data removed]"
          },
          "metadata": {
            "image/png": {
              "width": 563,
              "height": 442
            }
          }
        }
      ]
    },
    {
      "cell_type": "markdown",
      "source": [
        "This is dealing with the troublesome individual. We repeat the process of getting the code but manually put in the geocentric time."
      ],
      "metadata": {
        "id": "5djdPJb6_VMS"
      }
    },
    {
      "cell_type": "code",
      "source": [
        "data = read('/content/IGWN-GWTC3p0-v2-GW200308_173609_PEDataRelease_mixed_cosmo.h5')\n",
        "samples_dict = data.samples_dict\n",
        "posterior_samples = samples_dict['C01:Mixed']\n",
        "#posterior_samples = samples_dict['C01:IMRPhenomPv2_NRTidal:HighSpin']\n",
        "ra=posterior_samples['ra']\n",
        "dec=posterior_samples['dec']\n",
        "weight=np.ones_like(ra)/len(ra)\n",
        "time=np.ones_like(ra)*1.26772419e+09\n",
        "gw200308=pd.DataFrame({'ra':ra,'dec':dec,'times':time,'weights':weight})\n",
        "gw200308.to_csv('/content/drive/MyDrive/PHYS 549/GW200308.csv', index=False)\n",
        "sb.kdeplot(data=gw200308, x=\"dec\", y=\"ra\", cmap=\"mako\", weights='weights',fill=True)\n",
        "plt.show()"
      ],
      "metadata": {
        "colab": {
          "base_uri": "https://localhost:8080/",
          "height": 459
        },
        "id": "8faUrhJcj3pP",
        "outputId": "29e6677a-9894-47a4-a188-673ede274c3b"
      },
      "execution_count": null,
      "outputs": [
        {
          "output_type": "display_data",
          "data": {
            "text/plain": [
              "<Figure size 640x480 with 1 Axes>"
            ],
            "image/png": "[encoded data removed]"
          },
          "metadata": {
            "image/png": {
              "width": 569,
              "height": 442
            }
          }
        }
      ]
    },
    {
      "cell_type": "code",
      "source": [],
      "metadata": {
        "id": "ngS-MCTymIXX"
      },
      "execution_count": null,
      "outputs": []
    }
  ]
}