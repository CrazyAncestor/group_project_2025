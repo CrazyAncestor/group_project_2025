{
 "cells": [
  {
   "cell_type": "code",
   "execution_count": null,
   "id": "dbdfbeae",
   "metadata": {},
   "outputs": [],
   "source": [
    "from gw_grb_correlation.Fermi.download_data_functions import download_file\n"
   ]
  },
  {
   "cell_type": "code",
   "execution_count": null,
   "id": "1f7d8a8b",
   "metadata": {},
   "outputs": [],
   "source": [
    "# List of detectors you want\n",
    "detectors = ['n1', 'n2', 'n5']\n",
    "\n",
    "# Base URL parts\n",
    "url_tte = \"https://heasarc.gsfc.nasa.gov/FTP/fermi/data/gbm/bursts/2017/bn170817529/current/\"\n",
    "filename_tte = \"glg_tte_{}_bn170817529_v00.fit\"\n",
    "\n",
    "# Loop to download each file\n",
    "for det in detectors:\n",
    "    url = url_tte + filename_tte.format(det)\n",
    "    filename = filename_tte.format(det)\n",
    "    download_file(url, filename)\n",
    "\n",
    "url_bcat = \"https://heasarc.gsfc.nasa.gov/FTP/fermi/data/gbm/bursts/2017/bn170817529/current/glg_bcat_all_bn170817529_v01.fit\"\n",
    "filename_bcat = \"glg_bcat_bn170817529_v00.fit\"\n",
    "download_file(url_bcat, filename_bcat)"
   ]
  },
  {
   "cell_type": "code",
   "execution_count": null,
   "id": "6af9385a",
   "metadata": {},
   "outputs": [],
   "source": [
    "from astropy.io import fits\n",
    "import pandas as pd\n",
    "import numpy as np\n",
    "import matplotlib.pyplot as plt\n",
    "def extract_tte_data(tte_file):\n",
    "    \n",
    "    with fits.open(tte_file) as hdul:\n",
    "        df = pd.DataFrame(columns=['TIME'])\n",
    "        df['TIME'] = hdul['EVENTS'].data['TIME']\n",
    "        return df\n",
    "\n",
    "def extract_count_rate(df, bins=256):\n",
    "    \n",
    "    # Create time bins\n",
    "    time = df['TIME']\n",
    "    bin_edges = np.linspace(time.min(), time.max(), bins)\n",
    "    bin_size = bin_edges[1] - bin_edges[0]\n",
    "    digitized = np.digitize(time, bin_edges)\n",
    "    \n",
    "    # Calculate count rate in each bin\n",
    "    count_rate = [np.sum(digitized == i) / bin_size for i in range(1, len(bin_edges))]\n",
    "\n",
    "    return bin_edges[1:], count_rate\n",
    "\n",
    "def extract_bcat_data(tte_file):\n",
    "    \n",
    "    with fits.open(tte_file) as hdul:\n",
    "        header = hdul['PRIMARY'].header\n",
    "        return [header['TSTART'], header['TSTOP']]\n",
    "\n",
    "# Extracting TTE data\n",
    "tte_data = extract_tte_data(filename_tte.format('n2'))\n",
    "time, count_rate = extract_count_rate(tte_data)\n",
    "\n",
    "# Extracting BCAT data\n",
    "bcat_data = extract_bcat_data(filename_bcat)\n",
    "print(f\"start time: {bcat_data[0]}\")\n",
    "print(f\"stop time: {bcat_data[1]}\")"
   ]
  },
  {
   "cell_type": "code",
   "execution_count": null,
   "id": "c1a3f733",
   "metadata": {},
   "outputs": [],
   "source": [
    "import matplotlib.pyplot as plt\n",
    "import numpy as np\n",
    "\n",
    "# Assuming time and count_rate are already defined\n",
    "# Calculate the baseline of the count rate\n",
    "Baseline = np.average(count_rate)\n",
    "\n",
    "# Plot the count rate\n",
    "plt.plot(time, count_rate, label='Count Rate', color='blue')\n",
    "\n",
    "# Plot the baseline as a horizontal line\n",
    "plt.axhline(y=Baseline, color='red', linestyle='--', label='Baseline')\n",
    "\n",
    "# Plot vertical lines for tstart and tstop\n",
    "tstart, tstop = bcat_data\n",
    "plt.axvline(x=tstart, color='green', linestyle='--', label='TSTART')\n",
    "plt.axvline(x=tstop, color='orange', linestyle='--', label='TSTOP')\n",
    "\n",
    "# Add labels and title\n",
    "plt.xlabel('Time (s)')\n",
    "plt.ylabel('Count Rate (counts/s)')\n",
    "plt.title('Count Rate vs Time for TTE Data')\n",
    "plt.legend()\n",
    "plt.grid()\n",
    "plt.show()"
   ]
  },
  {
   "cell_type": "code",
   "execution_count": null,
   "id": "e20f586d",
   "metadata": {},
   "outputs": [],
   "source": [
    "# Ensure inputs are NumPy arrays\n",
    "time = np.asarray(time)\n",
    "count_rate = np.asarray(count_rate)\n",
    "\n",
    "# Mask for the time window\n",
    "mask = (time >= tstart) & (time <= tstop)\n",
    "# Time and counts in that window\n",
    "time_window = time[mask]\n",
    "counts_window = count_rate[mask]\n",
    "\n",
    "# Subtract the baseline from the counts\n",
    "excess_counts = counts_window - Baseline\n",
    "\n",
    "# Optional: Set any negative values to 0 (if you only want excess above baseline)\n",
    "excess_counts = np.clip(excess_counts, a_min=0, a_max=None)\n",
    "\n",
    "# Estimate total excess counts using the trapezoidal rule\n",
    "# This integrates the rate over time to get counts\n",
    "total_excess_counts = np.trapz(excess_counts, time_window)\n",
    "\n",
    "print(f\"Total excess counts above baseline in [{tstart}, {tstop}] = {total_excess_counts:.2f}\")\n"
   ]
  },
  {
   "cell_type": "code",
   "execution_count": null,
   "id": "0080bd1a",
   "metadata": {},
   "outputs": [],
   "source": [
    "import re\n",
    "def calculate_excess_counts(tstart, tstop, filename, bins =256):\n",
    "    \"\"\"\n",
    "    Calculate the excess counts in the time window [tstart, tstop] above the baseline.\n",
    "    \"\"\"\n",
    "\n",
    "    # Extract TTE data\n",
    "    with fits.open(filename) as hdul:\n",
    "        tte_data = pd.DataFrame(columns=['TIME'])\n",
    "        tte_data['TIME'] = hdul['EVENTS'].data['TIME']\n",
    "\n",
    "        # Extract ID from the filename\n",
    "        id = re.search(r'bn\\d{9}', hdul[0].header['FILENAME'])\n",
    "        id = id.group(0) if id else \"\"\n",
    "        \n",
    "        # Extract detector name from the filename\n",
    "        detector = re.search(r\"glg_tte_(\\w+)_bn\", hdul[0].header['FILENAME']).group(1)\n",
    "    \n",
    "    # Create time bins\n",
    "    time_bin = tte_data['TIME']\n",
    "    bin_edges = np.linspace(time_bin.min(), time_bin.max(), bins)\n",
    "    bin_size = bin_edges[1] - bin_edges[0]\n",
    "    digitized = np.digitize(time_bin, bin_edges)\n",
    "    time = bin_edges[1:]\n",
    "    \n",
    "    # Calculate count rate in each bin\n",
    "    count_rate = [np.sum(digitized == i) / bin_size for i in range(1, len(bin_edges))]\n",
    "\n",
    "    # Ensure inputs are NumPy arrays\n",
    "    time = np.asarray(time)\n",
    "    count_rate = np.asarray(count_rate)\n",
    "\n",
    "    # Calculate the baseline of the count rate\n",
    "    Baseline = np.average(count_rate)\n",
    "\n",
    "    # Mask for the time window\n",
    "    mask = (time >= tstart) & (time <= tstop)\n",
    "\n",
    "    # Time and counts in that window\n",
    "    time_window = time[mask]\n",
    "    counts_window = count_rate[mask]\n",
    "\n",
    "    # Subtract the baseline from the counts\n",
    "    excess_counts = counts_window - Baseline\n",
    "\n",
    "    # Estimate total excess counts using the trapezoidal rule\n",
    "    # This integrates the rate over time to get counts\n",
    "    total_excess_counts = np.trapz(excess_counts, time_window)\n",
    "\n",
    "    return (id, detector, total_excess_counts)"
   ]
  },
  {
   "cell_type": "code",
   "execution_count": null,
   "id": "a4160087",
   "metadata": {},
   "outputs": [],
   "source": [
    "# Example usage\n",
    "tstart, tstop = bcat_data   # Use the tstart and tstop from the BCAT data\n",
    "# Calculate excess counts in the specified time window for each detector\n",
    "detectors = ['n1', 'n2', 'n5']\n",
    "for detector in detectors:\n",
    "    filename = filename_tte.format(detector)\n",
    "    excess_counts = calculate_excess_counts(tstart, tstop, filename)\n",
    "    print(excess_counts[0])  # ID\n",
    "    print(excess_counts[1])  # Detector\n",
    "    print(f\"Total excess counts for {detector} in [{tstart}, {tstop}] = {excess_counts[2]:.2f}\")\n"
   ]
  },
  {
   "cell_type": "code",
   "execution_count": null,
   "id": "7d1d6238",
   "metadata": {},
   "outputs": [],
   "source": [
    "import numpy as np\n",
    "import pandas as pd\n",
    "# Load bcat_data from the specified file (time_data.npy)\n",
    "file_path = f'./fermi_data/time/time_data.npy'\n",
    "bcat_data = pd.DataFrame(np.load(file_path, allow_pickle=True))\n",
    "bcat_data.columns = ['ID', 'TSTART', 'TSTOP', 'T90', 'DATE']\n",
    "print(bcat_data.head())"
   ]
  },
  {
   "cell_type": "code",
   "execution_count": null,
   "id": "bf933e1b",
   "metadata": {},
   "outputs": [],
   "source": [
    "from astropy.io import fits\n",
    "import re\n",
    "def extract_fits_excess_photon_data(bcat_data, filename, bins =256):\n",
    "    \"\"\"\n",
    "    Calculate the excess counts in the time window [tstart, tstop] above the baseline.\n",
    "    \"\"\"\n",
    "    \n",
    "    # Extract TTE data\n",
    "    with fits.open(filename) as hdul:\n",
    "        tte_data = pd.DataFrame(columns=['TIME'])\n",
    "        tte_data['TIME'] = hdul['EVENTS'].data['TIME']\n",
    "\n",
    "        # Extract ID from the filename\n",
    "        id = re.search(r'bn\\d{9}', hdul[0].header['FILENAME'])\n",
    "        id = id.group(0) if id else \"\"\n",
    "        \n",
    "        # Extract tstart and tstop from bcat_data\n",
    "        target = bcat_data[bcat_data['ID'] == id]\n",
    "        if target.empty:\n",
    "            return (id, detector, 0)\n",
    "        tstart = target['TSTART'].iloc[0]  # Start time of the burst   \n",
    "        tstop = target['TSTOP'].iloc[0]    # Stop time of the burst\n",
    "\n",
    "        # Extract detector name from the filename\n",
    "        detector = re.search(r\"glg_tte_(\\w+)_bn\", hdul[0].header['FILENAME']).group(1)\n",
    "    \n",
    "    # Create time bins\n",
    "    time_bin = tte_data['TIME']\n",
    "    bin_edges = np.linspace(time_bin.min(), time_bin.max(), bins)\n",
    "    bin_size = bin_edges[1] - bin_edges[0]\n",
    "    digitized = np.digitize(time_bin, bin_edges)\n",
    "    time = bin_edges[1:]\n",
    "    \n",
    "    # Calculate count rate in each bin\n",
    "    count_rate = [np.sum(digitized == i) / bin_size for i in range(1, len(bin_edges))]\n",
    "\n",
    "    # Ensure inputs are NumPy arrays\n",
    "    time = np.asarray(time)\n",
    "    count_rate = np.asarray(count_rate)\n",
    "\n",
    "    # Calculate the baseline of the count rate\n",
    "    Baseline = np.average(count_rate)\n",
    "\n",
    "    # Mask for the time window\n",
    "    print(f\"tstart: {tstart}, tstop: {tstop}\")\n",
    "    mask = (time >= tstart) & (time <= tstop)\n",
    "\n",
    "    # Time and counts in that window\n",
    "    time_window = time[mask]\n",
    "    counts_window = count_rate[mask]\n",
    "\n",
    "    # Subtract the baseline from the counts\n",
    "    excess_counts = counts_window - Baseline\n",
    "\n",
    "    # Estimate total excess counts using the trapezoidal rule\n",
    "    # This integrates the rate over time to get counts\n",
    "    total_excess_counts = np.trapz(excess_counts, time_window)\n",
    "\n",
    "    return (id, detector, total_excess_counts)"
   ]
  },
  {
   "cell_type": "code",
   "execution_count": 1,
   "id": "7eb5dbcb",
   "metadata": {},
   "outputs": [
    {
     "name": "stderr",
     "output_type": "stream",
     "text": [
      "Downloading bursts: 100%|██████████| 78/78 [00:33<00:00,  2.34it/s]\n"
     ]
    },
    {
     "name": "stdout",
     "output_type": "stream",
     "text": [
      "Total files downloaded: 77\n"
     ]
    },
    {
     "name": "stderr",
     "output_type": "stream",
     "text": [
      "C:\\Users\\colon\\OneDrive\\桌面\\TheoryWork\\group_project_2025\\gw_grb_correlation\\Fermi\\tte_data.py:176: FutureWarning: The behavior of DataFrame concatenation with empty or all-NA entries is deprecated. In a future version, this will no longer exclude empty or all-NA columns when determining the result dtypes. To retain the old behavior, exclude the relevant entries before the concat operation.\n",
      "  df = pd.concat([df, pd.DataFrame(new_data, columns=columns)], ignore_index=True)\n"
     ]
    },
    {
     "name": "stdout",
     "output_type": "stream",
     "text": [
      "Processed and saved data for 2025, detector n0\n",
      "(77, 3)\n"
     ]
    },
    {
     "name": "stderr",
     "output_type": "stream",
     "text": [
      "Downloading bursts: 100%|██████████| 78/78 [00:36<00:00,  2.14it/s]\n"
     ]
    },
    {
     "name": "stdout",
     "output_type": "stream",
     "text": [
      "Total files downloaded: 77\n",
      "Processed and saved data for 2025, detector n1\n",
      "(154, 3)\n"
     ]
    },
    {
     "name": "stderr",
     "output_type": "stream",
     "text": [
      "Downloading bursts: 100%|██████████| 78/78 [00:34<00:00,  2.26it/s]\n"
     ]
    },
    {
     "name": "stdout",
     "output_type": "stream",
     "text": [
      "Total files downloaded: 77\n",
      "Processed and saved data for 2025, detector n2\n",
      "(231, 3)\n"
     ]
    },
    {
     "name": "stderr",
     "output_type": "stream",
     "text": [
      "Downloading bursts: 100%|██████████| 78/78 [00:39<00:00,  1.99it/s]\n"
     ]
    },
    {
     "name": "stdout",
     "output_type": "stream",
     "text": [
      "Total files downloaded: 77\n",
      "Processed and saved data for 2025, detector n3\n",
      "(308, 3)\n"
     ]
    },
    {
     "name": "stderr",
     "output_type": "stream",
     "text": [
      "Downloading bursts: 100%|██████████| 78/78 [00:33<00:00,  2.31it/s]\n"
     ]
    },
    {
     "name": "stdout",
     "output_type": "stream",
     "text": [
      "Total files downloaded: 77\n",
      "Processed and saved data for 2025, detector n4\n",
      "(385, 3)\n"
     ]
    },
    {
     "name": "stderr",
     "output_type": "stream",
     "text": [
      "Downloading bursts: 100%|██████████| 78/78 [01:07<00:00,  1.15it/s]\n"
     ]
    },
    {
     "name": "stdout",
     "output_type": "stream",
     "text": [
      "Total files downloaded: 77\n",
      "Processed and saved data for 2025, detector n5\n",
      "(462, 3)\n"
     ]
    },
    {
     "name": "stderr",
     "output_type": "stream",
     "text": [
      "Downloading bursts: 100%|██████████| 78/78 [00:32<00:00,  2.39it/s]\n"
     ]
    },
    {
     "name": "stdout",
     "output_type": "stream",
     "text": [
      "Total files downloaded: 77\n",
      "Processed and saved data for 2025, detector n6\n",
      "(539, 3)\n"
     ]
    },
    {
     "name": "stderr",
     "output_type": "stream",
     "text": [
      "Downloading bursts: 100%|██████████| 78/78 [00:37<00:00,  2.10it/s]\n"
     ]
    },
    {
     "name": "stdout",
     "output_type": "stream",
     "text": [
      "Total files downloaded: 77\n",
      "Processed and saved data for 2025, detector n7\n",
      "(616, 3)\n"
     ]
    },
    {
     "name": "stderr",
     "output_type": "stream",
     "text": [
      "Downloading bursts: 100%|██████████| 78/78 [00:35<00:00,  2.19it/s]\n"
     ]
    },
    {
     "name": "stdout",
     "output_type": "stream",
     "text": [
      "Total files downloaded: 77\n",
      "Processed and saved data for 2025, detector n8\n",
      "(693, 3)\n"
     ]
    },
    {
     "name": "stderr",
     "output_type": "stream",
     "text": [
      "Downloading bursts: 100%|██████████| 78/78 [00:36<00:00,  2.13it/s]\n"
     ]
    },
    {
     "name": "stdout",
     "output_type": "stream",
     "text": [
      "Total files downloaded: 77\n",
      "Processed and saved data for 2025, detector n9\n",
      "(770, 3)\n"
     ]
    },
    {
     "name": "stderr",
     "output_type": "stream",
     "text": [
      "Downloading bursts: 100%|██████████| 78/78 [00:37<00:00,  2.08it/s]\n"
     ]
    },
    {
     "name": "stdout",
     "output_type": "stream",
     "text": [
      "Total files downloaded: 77\n",
      "Processed and saved data for 2025, detector na\n",
      "(847, 3)\n"
     ]
    },
    {
     "name": "stderr",
     "output_type": "stream",
     "text": [
      "Downloading bursts: 100%|██████████| 78/78 [00:32<00:00,  2.43it/s]\n"
     ]
    },
    {
     "name": "stdout",
     "output_type": "stream",
     "text": [
      "Total files downloaded: 77\n",
      "Processed and saved data for 2025, detector nb\n",
      "(924, 3)\n"
     ]
    },
    {
     "name": "stderr",
     "output_type": "stream",
     "text": [
      "Downloading bursts: 100%|██████████| 78/78 [00:39<00:00,  1.96it/s]\n"
     ]
    },
    {
     "name": "stdout",
     "output_type": "stream",
     "text": [
      "Total files downloaded: 77\n",
      "Processed and saved data for 2025, detector b0\n",
      "(1001, 3)\n"
     ]
    },
    {
     "name": "stderr",
     "output_type": "stream",
     "text": [
      "Downloading bursts: 100%|██████████| 78/78 [00:40<00:00,  1.93it/s]\n"
     ]
    },
    {
     "name": "stdout",
     "output_type": "stream",
     "text": [
      "Total files downloaded: 77\n",
      "Processed and saved data for 2025, detector b1\n",
      "(1078, 3)\n"
     ]
    },
    {
     "data": {
      "text/html": [
       "<div>\n",
       "<style scoped>\n",
       "    .dataframe tbody tr th:only-of-type {\n",
       "        vertical-align: middle;\n",
       "    }\n",
       "\n",
       "    .dataframe tbody tr th {\n",
       "        vertical-align: top;\n",
       "    }\n",
       "\n",
       "    .dataframe thead th {\n",
       "        text-align: right;\n",
       "    }\n",
       "</style>\n",
       "<table border=\"1\" class=\"dataframe\">\n",
       "  <thead>\n",
       "    <tr style=\"text-align: right;\">\n",
       "      <th></th>\n",
       "      <th>ID</th>\n",
       "      <th>n0_PH_CNT</th>\n",
       "      <th>n1_PH_CNT</th>\n",
       "      <th>n2_PH_CNT</th>\n",
       "      <th>n3_PH_CNT</th>\n",
       "      <th>n4_PH_CNT</th>\n",
       "      <th>n5_PH_CNT</th>\n",
       "      <th>n6_PH_CNT</th>\n",
       "      <th>n7_PH_CNT</th>\n",
       "      <th>n8_PH_CNT</th>\n",
       "      <th>n9_PH_CNT</th>\n",
       "      <th>na_PH_CNT</th>\n",
       "      <th>nb_PH_CNT</th>\n",
       "      <th>b0_PH_CNT</th>\n",
       "      <th>b1_PH_CNT</th>\n",
       "    </tr>\n",
       "  </thead>\n",
       "  <tbody>\n",
       "    <tr>\n",
       "      <th>0</th>\n",
       "      <td>bn250101968</td>\n",
       "      <td>-16.682350</td>\n",
       "      <td>-385.652937</td>\n",
       "      <td>-770.835314</td>\n",
       "      <td>1787.982316</td>\n",
       "      <td>2294.523560</td>\n",
       "      <td>1568.870623</td>\n",
       "      <td>1706.711801</td>\n",
       "      <td>2089.547057</td>\n",
       "      <td>1076.894118</td>\n",
       "      <td>753.876476</td>\n",
       "      <td>-1167.317648</td>\n",
       "      <td>1765.311761</td>\n",
       "      <td>322.729422</td>\n",
       "      <td>1295.058802</td>\n",
       "    </tr>\n",
       "    <tr>\n",
       "      <th>1</th>\n",
       "      <td>bn250102943</td>\n",
       "      <td>4819.390236</td>\n",
       "      <td>6008.113770</td>\n",
       "      <td>13172.909520</td>\n",
       "      <td>11391.499808</td>\n",
       "      <td>14196.042971</td>\n",
       "      <td>31313.798313</td>\n",
       "      <td>6726.129376</td>\n",
       "      <td>3482.615649</td>\n",
       "      <td>-7753.037359</td>\n",
       "      <td>6799.433469</td>\n",
       "      <td>12661.125313</td>\n",
       "      <td>732.701971</td>\n",
       "      <td>-2922.333305</td>\n",
       "      <td>1136.809824</td>\n",
       "    </tr>\n",
       "    <tr>\n",
       "      <th>2</th>\n",
       "      <td>bn250103415</td>\n",
       "      <td>3016.366606</td>\n",
       "      <td>-2139.866667</td>\n",
       "      <td>-3909.825410</td>\n",
       "      <td>10002.156986</td>\n",
       "      <td>10654.652754</td>\n",
       "      <td>3692.582339</td>\n",
       "      <td>6139.182432</td>\n",
       "      <td>5695.274464</td>\n",
       "      <td>3088.343142</td>\n",
       "      <td>549.341192</td>\n",
       "      <td>-4091.427381</td>\n",
       "      <td>1985.525542</td>\n",
       "      <td>1915.370624</td>\n",
       "      <td>5192.927328</td>\n",
       "    </tr>\n",
       "    <tr>\n",
       "      <th>3</th>\n",
       "      <td>bn250107210</td>\n",
       "      <td>5356.252922</td>\n",
       "      <td>4892.641276</td>\n",
       "      <td>2538.994096</td>\n",
       "      <td>7373.652985</td>\n",
       "      <td>3968.888176</td>\n",
       "      <td>858.488254</td>\n",
       "      <td>-3767.041176</td>\n",
       "      <td>-4764.494002</td>\n",
       "      <td>-3361.988301</td>\n",
       "      <td>-5204.882296</td>\n",
       "      <td>-6611.082378</td>\n",
       "      <td>-8769.570402</td>\n",
       "      <td>1635.682370</td>\n",
       "      <td>-685.770587</td>\n",
       "    </tr>\n",
       "    <tr>\n",
       "      <th>4</th>\n",
       "      <td>bn250107482</td>\n",
       "      <td>54.525490</td>\n",
       "      <td>148.882356</td>\n",
       "      <td>523.205869</td>\n",
       "      <td>236.898039</td>\n",
       "      <td>48.088235</td>\n",
       "      <td>572.149020</td>\n",
       "      <td>225.845098</td>\n",
       "      <td>333.829421</td>\n",
       "      <td>-157.074510</td>\n",
       "      <td>159.441179</td>\n",
       "      <td>330.225490</td>\n",
       "      <td>62.264706</td>\n",
       "      <td>87.715686</td>\n",
       "      <td>553.627451</td>\n",
       "    </tr>\n",
       "    <tr>\n",
       "      <th>...</th>\n",
       "      <td>...</td>\n",
       "      <td>...</td>\n",
       "      <td>...</td>\n",
       "      <td>...</td>\n",
       "      <td>...</td>\n",
       "      <td>...</td>\n",
       "      <td>...</td>\n",
       "      <td>...</td>\n",
       "      <td>...</td>\n",
       "      <td>...</td>\n",
       "      <td>...</td>\n",
       "      <td>...</td>\n",
       "      <td>...</td>\n",
       "      <td>...</td>\n",
       "      <td>...</td>\n",
       "    </tr>\n",
       "    <tr>\n",
       "      <th>68</th>\n",
       "      <td>bn250331949</td>\n",
       "      <td>5054.117733</td>\n",
       "      <td>4578.539197</td>\n",
       "      <td>3238.686253</td>\n",
       "      <td>3668.931285</td>\n",
       "      <td>1058.931363</td>\n",
       "      <td>2472.009747</td>\n",
       "      <td>7362.509892</td>\n",
       "      <td>6967.264586</td>\n",
       "      <td>6436.519589</td>\n",
       "      <td>9779.039026</td>\n",
       "      <td>6805.137138</td>\n",
       "      <td>9611.088080</td>\n",
       "      <td>12105.039277</td>\n",
       "      <td>11708.892035</td>\n",
       "    </tr>\n",
       "    <tr>\n",
       "      <th>69</th>\n",
       "      <td>bn250402964</td>\n",
       "      <td>-3608.300036</td>\n",
       "      <td>-7132.000000</td>\n",
       "      <td>-9553.400036</td>\n",
       "      <td>2791.900062</td>\n",
       "      <td>10363.500032</td>\n",
       "      <td>-2390.099941</td>\n",
       "      <td>2661.099976</td>\n",
       "      <td>2422.000045</td>\n",
       "      <td>4716.099911</td>\n",
       "      <td>4572.300032</td>\n",
       "      <td>5450.900127</td>\n",
       "      <td>4622.400087</td>\n",
       "      <td>-2917.199980</td>\n",
       "      <td>621.499996</td>\n",
       "    </tr>\n",
       "    <tr>\n",
       "      <th>70</th>\n",
       "      <td>bn250403636</td>\n",
       "      <td>-227.400003</td>\n",
       "      <td>2072.823499</td>\n",
       "      <td>6317.047191</td>\n",
       "      <td>-5609.958787</td>\n",
       "      <td>-10703.394315</td>\n",
       "      <td>-2745.629345</td>\n",
       "      <td>-4627.476424</td>\n",
       "      <td>-10812.229484</td>\n",
       "      <td>-9095.176471</td>\n",
       "      <td>5525.135353</td>\n",
       "      <td>11307.017560</td>\n",
       "      <td>895.211746</td>\n",
       "      <td>2056.058858</td>\n",
       "      <td>959.741172</td>\n",
       "    </tr>\n",
       "    <tr>\n",
       "      <th>71</th>\n",
       "      <td>bn250404597</td>\n",
       "      <td>33961.215110</td>\n",
       "      <td>40458.881684</td>\n",
       "      <td>23461.745059</td>\n",
       "      <td>6931.353033</td>\n",
       "      <td>4430.862839</td>\n",
       "      <td>9343.852734</td>\n",
       "      <td>5163.637177</td>\n",
       "      <td>-5116.754883</td>\n",
       "      <td>-1102.254865</td>\n",
       "      <td>31798.244454</td>\n",
       "      <td>15366.608198</td>\n",
       "      <td>4093.823572</td>\n",
       "      <td>1906.745109</td>\n",
       "      <td>3227.725530</td>\n",
       "    </tr>\n",
       "    <tr>\n",
       "      <th>72</th>\n",
       "      <td>bn250406610</td>\n",
       "      <td>1278.729412</td>\n",
       "      <td>1736.600028</td>\n",
       "      <td>3721.264745</td>\n",
       "      <td>485.341186</td>\n",
       "      <td>-544.611756</td>\n",
       "      <td>870.817666</td>\n",
       "      <td>5865.558868</td>\n",
       "      <td>144.699991</td>\n",
       "      <td>-4192.705891</td>\n",
       "      <td>12423.317922</td>\n",
       "      <td>15793.887972</td>\n",
       "      <td>4060.794041</td>\n",
       "      <td>2018.994110</td>\n",
       "      <td>3499.188288</td>\n",
       "    </tr>\n",
       "  </tbody>\n",
       "</table>\n",
       "<p>73 rows × 15 columns</p>\n",
       "</div>"
      ],
      "text/plain": [
       "             ID     n0_PH_CNT     n1_PH_CNT     n2_PH_CNT     n3_PH_CNT  \\\n",
       "0   bn250101968    -16.682350   -385.652937   -770.835314   1787.982316   \n",
       "1   bn250102943   4819.390236   6008.113770  13172.909520  11391.499808   \n",
       "2   bn250103415   3016.366606  -2139.866667  -3909.825410  10002.156986   \n",
       "3   bn250107210   5356.252922   4892.641276   2538.994096   7373.652985   \n",
       "4   bn250107482     54.525490    148.882356    523.205869    236.898039   \n",
       "..          ...           ...           ...           ...           ...   \n",
       "68  bn250331949   5054.117733   4578.539197   3238.686253   3668.931285   \n",
       "69  bn250402964  -3608.300036  -7132.000000  -9553.400036   2791.900062   \n",
       "70  bn250403636   -227.400003   2072.823499   6317.047191  -5609.958787   \n",
       "71  bn250404597  33961.215110  40458.881684  23461.745059   6931.353033   \n",
       "72  bn250406610   1278.729412   1736.600028   3721.264745    485.341186   \n",
       "\n",
       "       n4_PH_CNT     n5_PH_CNT    n6_PH_CNT     n7_PH_CNT    n8_PH_CNT  \\\n",
       "0    2294.523560   1568.870623  1706.711801   2089.547057  1076.894118   \n",
       "1   14196.042971  31313.798313  6726.129376   3482.615649 -7753.037359   \n",
       "2   10654.652754   3692.582339  6139.182432   5695.274464  3088.343142   \n",
       "3    3968.888176    858.488254 -3767.041176  -4764.494002 -3361.988301   \n",
       "4      48.088235    572.149020   225.845098    333.829421  -157.074510   \n",
       "..           ...           ...          ...           ...          ...   \n",
       "68   1058.931363   2472.009747  7362.509892   6967.264586  6436.519589   \n",
       "69  10363.500032  -2390.099941  2661.099976   2422.000045  4716.099911   \n",
       "70 -10703.394315  -2745.629345 -4627.476424 -10812.229484 -9095.176471   \n",
       "71   4430.862839   9343.852734  5163.637177  -5116.754883 -1102.254865   \n",
       "72   -544.611756    870.817666  5865.558868    144.699991 -4192.705891   \n",
       "\n",
       "       n9_PH_CNT     na_PH_CNT    nb_PH_CNT     b0_PH_CNT     b1_PH_CNT  \n",
       "0     753.876476  -1167.317648  1765.311761    322.729422   1295.058802  \n",
       "1    6799.433469  12661.125313   732.701971  -2922.333305   1136.809824  \n",
       "2     549.341192  -4091.427381  1985.525542   1915.370624   5192.927328  \n",
       "3   -5204.882296  -6611.082378 -8769.570402   1635.682370   -685.770587  \n",
       "4     159.441179    330.225490    62.264706     87.715686    553.627451  \n",
       "..           ...           ...          ...           ...           ...  \n",
       "68   9779.039026   6805.137138  9611.088080  12105.039277  11708.892035  \n",
       "69   4572.300032   5450.900127  4622.400087  -2917.199980    621.499996  \n",
       "70   5525.135353  11307.017560   895.211746   2056.058858    959.741172  \n",
       "71  31798.244454  15366.608198  4093.823572   1906.745109   3227.725530  \n",
       "72  12423.317922  15793.887972  4060.794041   2018.994110   3499.188288  \n",
       "\n",
       "[73 rows x 15 columns]"
      ]
     },
     "execution_count": 1,
     "metadata": {},
     "output_type": "execute_result"
    }
   ],
   "source": [
    "from gw_grb_correlation.Fermi.tte_data import preprocess_tte_data\n",
    "preprocess_tte_data(2025, 2026)"
   ]
  }
 ],
 "metadata": {
  "kernelspec": {
   "display_name": "Python 3",
   "language": "python",
   "name": "python3"
  },
  "language_info": {
   "codemirror_mode": {
    "name": "ipython",
    "version": 3
   },
   "file_extension": ".py",
   "mimetype": "text/x-python",
   "name": "python",
   "nbconvert_exporter": "python",
   "pygments_lexer": "ipython3",
   "version": "3.11.9"
  }
 },
 "nbformat": 4,
 "nbformat_minor": 5
}
